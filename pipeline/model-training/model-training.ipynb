{
 "cells": [
  {
   "attachments": {},
   "cell_type": "markdown",
   "metadata": {},
   "source": [
    "# Model Training"
   ]
  },
  {
   "cell_type": "code",
   "execution_count": 1,
   "metadata": {},
   "outputs": [],
   "source": [
    "#%pip install pandas\n",
    "#!pip3 install scikit-learn\n",
    "#%pip install matplotlib\n",
    "\n",
    "import sys\n",
    "import pandas as pd\n",
    "import sqlite3\n",
    "import pathlib\n",
    "\n",
    "sys.path.append(\"model-training\") \n",
    "import modelling_functions as mf\n",
    "import training_config as tc"
   ]
  },
  {
   "cell_type": "code",
   "execution_count": 2,
   "metadata": {},
   "outputs": [],
   "source": [
    "# Get to the root directory\n",
    "project_root = pathlib.Path().absolute().parent.parent\n",
    "\n",
    "# Now construct the relative path to your SQLite database\n",
    "db_path = project_root / \"data\" / \"footy-tipper-db.sqlite\"\n",
    "\n",
    "# Connect to the SQLite database\n",
    "con = sqlite3.connect(str(db_path))\n",
    "\n",
    "# Read the data into a pandas dataframe (assuming the table is named 'my_table')\n",
    "train_df = pd.read_sql_query(\"SELECT * FROM train_df\", con)\n",
    "\n",
    "# Don't forget to close the connection\n",
    "con.close()"
   ]
  },
  {
   "cell_type": "code",
   "execution_count": 3,
   "metadata": {},
   "outputs": [
    {
     "name": "stderr",
     "output_type": "stream",
     "text": [
      "/opt/homebrew/lib/python3.9/site-packages/sklearn/model_selection/_split.py:700: UserWarning: The least populated class in y has only 2 members, which is less than n_splits=5.\n",
      "  warnings.warn(\n"
     ]
    },
    {
     "ename": "ValueError",
     "evalue": "Number of classes in y_true not equal to the number of columns in 'y_score'",
     "output_type": "error",
     "traceback": [
      "\u001b[0;31m---------------------------------------------------------------------------\u001b[0m",
      "\u001b[0;31mValueError\u001b[0m                                Traceback (most recent call last)",
      "Cell \u001b[0;32mIn[3], line 1\u001b[0m\n\u001b[0;32m----> 1\u001b[0m mf\u001b[39m.\u001b[39;49mtraining_pipeline(train_df, tc\u001b[39m.\u001b[39;49mestimator, tc\u001b[39m.\u001b[39;49moutcome_var, tc\u001b[39m.\u001b[39;49mpredictors)\n",
      "File \u001b[0;32m~/Documents/GitHub/footy-tipper/pipeline/model-training/modelling_functions.py:87\u001b[0m, in \u001b[0;36mtraining_pipeline\u001b[0;34m(train_df, estimator, outcome_var, predictors)\u001b[0m\n\u001b[1;32m     85\u001b[0m rf_param_grid \u001b[39m=\u001b[39m {\u001b[39m'\u001b[39m\u001b[39mn_estimators\u001b[39m\u001b[39m'\u001b[39m: [\u001b[39m10\u001b[39m, \u001b[39m50\u001b[39m, \u001b[39m100\u001b[39m], \u001b[39m'\u001b[39m\u001b[39mmax_features\u001b[39m\u001b[39m'\u001b[39m: [\u001b[39m'\u001b[39m\u001b[39mauto\u001b[39m\u001b[39m'\u001b[39m, \u001b[39m'\u001b[39m\u001b[39msqrt\u001b[39m\u001b[39m'\u001b[39m, \u001b[39m'\u001b[39m\u001b[39mlog2\u001b[39m\u001b[39m'\u001b[39m]}\n\u001b[1;32m     86\u001b[0m \u001b[39m# Capture the returned values\u001b[39;00m\n\u001b[0;32m---> 87\u001b[0m opt_rf_predictors, all_rf_features \u001b[39m=\u001b[39m perform_rfe(rf_estimator, data\u001b[39m=\u001b[39;49mtrain_df, k\u001b[39m=\u001b[39;49m\u001b[39m5\u001b[39;49m, opt_metric\u001b[39m=\u001b[39;49m\u001b[39m'\u001b[39;49m\u001b[39mROC\u001b[39;49m\u001b[39m'\u001b[39;49m, maximise\u001b[39m=\u001b[39;49m\u001b[39mTrue\u001b[39;49;00m, outcome_var\u001b[39m=\u001b[39;49moutcome_var, predictors\u001b[39m=\u001b[39;49mpredictors)\n\u001b[1;32m     88\u001b[0m \u001b[39m# Use opt_rf_predictors as the predictors parameter\u001b[39;00m\n\u001b[1;32m     89\u001b[0m cv \u001b[39m=\u001b[39m train_multiclass_model(rf_estimator, rf_param_grid, data\u001b[39m=\u001b[39mtrain_df, predictors\u001b[39m=\u001b[39mopt_rf_predictors, outcome_var\u001b[39m=\u001b[39moutcome_var, opt_metric\u001b[39m=\u001b[39m\u001b[39m'\u001b[39m\u001b[39mROC\u001b[39m\u001b[39m'\u001b[39m)\n",
      "File \u001b[0;32m~/Documents/GitHub/footy-tipper/pipeline/model-training/modelling_functions.py:41\u001b[0m, in \u001b[0;36mperform_rfe\u001b[0;34m(estimator, data, k, opt_metric, maximise, steps, outcome_var, predictors)\u001b[0m\n\u001b[1;32m     39\u001b[0m \u001b[39m# Recursive Feature Elimination with cross-validation\u001b[39;00m\n\u001b[1;32m     40\u001b[0m rfecv \u001b[39m=\u001b[39m RFECV(estimator\u001b[39m=\u001b[39mestimator, step\u001b[39m=\u001b[39m\u001b[39m1\u001b[39m, cv\u001b[39m=\u001b[39mStratifiedKFold(k), scoring\u001b[39m=\u001b[39mscoring)\n\u001b[0;32m---> 41\u001b[0m rfecv\u001b[39m.\u001b[39;49mfit(X, y)\n\u001b[1;32m     43\u001b[0m \u001b[39m# Plotting number of features vs. cross-validation scores\u001b[39;00m\n\u001b[1;32m     44\u001b[0m plt\u001b[39m.\u001b[39mfigure()\n",
      "File \u001b[0;32m/opt/homebrew/lib/python3.9/site-packages/sklearn/feature_selection/_rfe.py:725\u001b[0m, in \u001b[0;36mRFECV.fit\u001b[0;34m(self, X, y, groups)\u001b[0m\n\u001b[1;32m    722\u001b[0m     parallel \u001b[39m=\u001b[39m Parallel(n_jobs\u001b[39m=\u001b[39m\u001b[39mself\u001b[39m\u001b[39m.\u001b[39mn_jobs)\n\u001b[1;32m    723\u001b[0m     func \u001b[39m=\u001b[39m delayed(_rfe_single_fit)\n\u001b[0;32m--> 725\u001b[0m scores \u001b[39m=\u001b[39m parallel(\n\u001b[1;32m    726\u001b[0m     func(rfe, \u001b[39mself\u001b[39;49m\u001b[39m.\u001b[39;49mestimator, X, y, train, test, scorer)\n\u001b[1;32m    727\u001b[0m     \u001b[39mfor\u001b[39;49;00m train, test \u001b[39min\u001b[39;49;00m cv\u001b[39m.\u001b[39;49msplit(X, y, groups)\n\u001b[1;32m    728\u001b[0m )\n\u001b[1;32m    730\u001b[0m scores \u001b[39m=\u001b[39m np\u001b[39m.\u001b[39marray(scores)\n\u001b[1;32m    731\u001b[0m scores_sum \u001b[39m=\u001b[39m np\u001b[39m.\u001b[39msum(scores, axis\u001b[39m=\u001b[39m\u001b[39m0\u001b[39m)\n",
      "File \u001b[0;32m/opt/homebrew/lib/python3.9/site-packages/sklearn/feature_selection/_rfe.py:726\u001b[0m, in \u001b[0;36m<genexpr>\u001b[0;34m(.0)\u001b[0m\n\u001b[1;32m    722\u001b[0m     parallel \u001b[39m=\u001b[39m Parallel(n_jobs\u001b[39m=\u001b[39m\u001b[39mself\u001b[39m\u001b[39m.\u001b[39mn_jobs)\n\u001b[1;32m    723\u001b[0m     func \u001b[39m=\u001b[39m delayed(_rfe_single_fit)\n\u001b[1;32m    725\u001b[0m scores \u001b[39m=\u001b[39m parallel(\n\u001b[0;32m--> 726\u001b[0m     func(rfe, \u001b[39mself\u001b[39;49m\u001b[39m.\u001b[39;49mestimator, X, y, train, test, scorer)\n\u001b[1;32m    727\u001b[0m     \u001b[39mfor\u001b[39;00m train, test \u001b[39min\u001b[39;00m cv\u001b[39m.\u001b[39msplit(X, y, groups)\n\u001b[1;32m    728\u001b[0m )\n\u001b[1;32m    730\u001b[0m scores \u001b[39m=\u001b[39m np\u001b[39m.\u001b[39marray(scores)\n\u001b[1;32m    731\u001b[0m scores_sum \u001b[39m=\u001b[39m np\u001b[39m.\u001b[39msum(scores, axis\u001b[39m=\u001b[39m\u001b[39m0\u001b[39m)\n",
      "File \u001b[0;32m/opt/homebrew/lib/python3.9/site-packages/sklearn/feature_selection/_rfe.py:37\u001b[0m, in \u001b[0;36m_rfe_single_fit\u001b[0;34m(rfe, estimator, X, y, train, test, scorer)\u001b[0m\n\u001b[1;32m     35\u001b[0m X_train, y_train \u001b[39m=\u001b[39m _safe_split(estimator, X, y, train)\n\u001b[1;32m     36\u001b[0m X_test, y_test \u001b[39m=\u001b[39m _safe_split(estimator, X, y, test, train)\n\u001b[0;32m---> 37\u001b[0m \u001b[39mreturn\u001b[39;00m rfe\u001b[39m.\u001b[39;49m_fit(\n\u001b[1;32m     38\u001b[0m     X_train,\n\u001b[1;32m     39\u001b[0m     y_train,\n\u001b[1;32m     40\u001b[0m     \u001b[39mlambda\u001b[39;49;00m estimator, features: _score(\n\u001b[1;32m     41\u001b[0m         estimator, X_test[:, features], y_test, scorer\n\u001b[1;32m     42\u001b[0m     ),\n\u001b[1;32m     43\u001b[0m )\u001b[39m.\u001b[39mscores_\n",
      "File \u001b[0;32m/opt/homebrew/lib/python3.9/site-packages/sklearn/feature_selection/_rfe.py:319\u001b[0m, in \u001b[0;36mRFE._fit\u001b[0;34m(self, X, y, step_score, **fit_params)\u001b[0m\n\u001b[1;32m    315\u001b[0m \u001b[39m# Compute step score on the previous selection iteration\u001b[39;00m\n\u001b[1;32m    316\u001b[0m \u001b[39m# because 'estimator' must use features\u001b[39;00m\n\u001b[1;32m    317\u001b[0m \u001b[39m# that have not been eliminated yet\u001b[39;00m\n\u001b[1;32m    318\u001b[0m \u001b[39mif\u001b[39;00m step_score:\n\u001b[0;32m--> 319\u001b[0m     \u001b[39mself\u001b[39m\u001b[39m.\u001b[39mscores_\u001b[39m.\u001b[39mappend(step_score(estimator, features))\n\u001b[1;32m    320\u001b[0m support_[features[ranks][:threshold]] \u001b[39m=\u001b[39m \u001b[39mFalse\u001b[39;00m\n\u001b[1;32m    321\u001b[0m ranking_[np\u001b[39m.\u001b[39mlogical_not(support_)] \u001b[39m+\u001b[39m\u001b[39m=\u001b[39m \u001b[39m1\u001b[39m\n",
      "File \u001b[0;32m/opt/homebrew/lib/python3.9/site-packages/sklearn/feature_selection/_rfe.py:40\u001b[0m, in \u001b[0;36m_rfe_single_fit.<locals>.<lambda>\u001b[0;34m(estimator, features)\u001b[0m\n\u001b[1;32m     35\u001b[0m X_train, y_train \u001b[39m=\u001b[39m _safe_split(estimator, X, y, train)\n\u001b[1;32m     36\u001b[0m X_test, y_test \u001b[39m=\u001b[39m _safe_split(estimator, X, y, test, train)\n\u001b[1;32m     37\u001b[0m \u001b[39mreturn\u001b[39;00m rfe\u001b[39m.\u001b[39m_fit(\n\u001b[1;32m     38\u001b[0m     X_train,\n\u001b[1;32m     39\u001b[0m     y_train,\n\u001b[0;32m---> 40\u001b[0m     \u001b[39mlambda\u001b[39;00m estimator, features: _score(\n\u001b[1;32m     41\u001b[0m         estimator, X_test[:, features], y_test, scorer\n\u001b[1;32m     42\u001b[0m     ),\n\u001b[1;32m     43\u001b[0m )\u001b[39m.\u001b[39mscores_\n",
      "File \u001b[0;32m/opt/homebrew/lib/python3.9/site-packages/sklearn/model_selection/_validation.py:767\u001b[0m, in \u001b[0;36m_score\u001b[0;34m(estimator, X_test, y_test, scorer, error_score)\u001b[0m\n\u001b[1;32m    765\u001b[0m         scores \u001b[39m=\u001b[39m scorer(estimator, X_test)\n\u001b[1;32m    766\u001b[0m     \u001b[39melse\u001b[39;00m:\n\u001b[0;32m--> 767\u001b[0m         scores \u001b[39m=\u001b[39m scorer(estimator, X_test, y_test)\n\u001b[1;32m    768\u001b[0m \u001b[39mexcept\u001b[39;00m \u001b[39mException\u001b[39;00m:\n\u001b[1;32m    769\u001b[0m     \u001b[39mif\u001b[39;00m \u001b[39misinstance\u001b[39m(scorer, _MultimetricScorer):\n\u001b[1;32m    770\u001b[0m         \u001b[39m# If `_MultimetricScorer` raises exception, the `error_score`\u001b[39;00m\n\u001b[1;32m    771\u001b[0m         \u001b[39m# parameter is equal to \"raise\".\u001b[39;00m\n",
      "File \u001b[0;32m/opt/homebrew/lib/python3.9/site-packages/sklearn/metrics/_scorer.py:234\u001b[0m, in \u001b[0;36m_BaseScorer.__call__\u001b[0;34m(self, estimator, X, y_true, sample_weight)\u001b[0m\n\u001b[1;32m    211\u001b[0m \u001b[39mdef\u001b[39;00m \u001b[39m__call__\u001b[39m(\u001b[39mself\u001b[39m, estimator, X, y_true, sample_weight\u001b[39m=\u001b[39m\u001b[39mNone\u001b[39;00m):\n\u001b[1;32m    212\u001b[0m \u001b[39m    \u001b[39m\u001b[39m\"\"\"Evaluate predicted target values for X relative to y_true.\u001b[39;00m\n\u001b[1;32m    213\u001b[0m \n\u001b[1;32m    214\u001b[0m \u001b[39m    Parameters\u001b[39;00m\n\u001b[0;32m   (...)\u001b[0m\n\u001b[1;32m    232\u001b[0m \u001b[39m        Score function applied to prediction of estimator on X.\u001b[39;00m\n\u001b[1;32m    233\u001b[0m \u001b[39m    \"\"\"\u001b[39;00m\n\u001b[0;32m--> 234\u001b[0m     \u001b[39mreturn\u001b[39;00m \u001b[39mself\u001b[39;49m\u001b[39m.\u001b[39;49m_score(\n\u001b[1;32m    235\u001b[0m         partial(_cached_call, \u001b[39mNone\u001b[39;49;00m),\n\u001b[1;32m    236\u001b[0m         estimator,\n\u001b[1;32m    237\u001b[0m         X,\n\u001b[1;32m    238\u001b[0m         y_true,\n\u001b[1;32m    239\u001b[0m         sample_weight\u001b[39m=\u001b[39;49msample_weight,\n\u001b[1;32m    240\u001b[0m     )\n",
      "File \u001b[0;32m/opt/homebrew/lib/python3.9/site-packages/sklearn/metrics/_scorer.py:327\u001b[0m, in \u001b[0;36m_ProbaScorer._score\u001b[0;34m(self, method_caller, clf, X, y, sample_weight)\u001b[0m\n\u001b[1;32m    323\u001b[0m     \u001b[39mreturn\u001b[39;00m \u001b[39mself\u001b[39m\u001b[39m.\u001b[39m_sign \u001b[39m*\u001b[39m \u001b[39mself\u001b[39m\u001b[39m.\u001b[39m_score_func(\n\u001b[1;32m    324\u001b[0m         y, y_pred, sample_weight\u001b[39m=\u001b[39msample_weight, \u001b[39m*\u001b[39m\u001b[39m*\u001b[39m\u001b[39mself\u001b[39m\u001b[39m.\u001b[39m_kwargs\n\u001b[1;32m    325\u001b[0m     )\n\u001b[1;32m    326\u001b[0m \u001b[39melse\u001b[39;00m:\n\u001b[0;32m--> 327\u001b[0m     \u001b[39mreturn\u001b[39;00m \u001b[39mself\u001b[39m\u001b[39m.\u001b[39m_sign \u001b[39m*\u001b[39m \u001b[39mself\u001b[39;49m\u001b[39m.\u001b[39;49m_score_func(y, y_pred, \u001b[39m*\u001b[39;49m\u001b[39m*\u001b[39;49m\u001b[39mself\u001b[39;49m\u001b[39m.\u001b[39;49m_kwargs)\n",
      "File \u001b[0;32m/opt/homebrew/lib/python3.9/site-packages/sklearn/metrics/_ranking.py:566\u001b[0m, in \u001b[0;36mroc_auc_score\u001b[0;34m(y_true, y_score, average, sample_weight, max_fpr, multi_class, labels)\u001b[0m\n\u001b[1;32m    564\u001b[0m     \u001b[39mif\u001b[39;00m multi_class \u001b[39m==\u001b[39m \u001b[39m\"\u001b[39m\u001b[39mraise\u001b[39m\u001b[39m\"\u001b[39m:\n\u001b[1;32m    565\u001b[0m         \u001b[39mraise\u001b[39;00m \u001b[39mValueError\u001b[39;00m(\u001b[39m\"\u001b[39m\u001b[39mmulti_class must be in (\u001b[39m\u001b[39m'\u001b[39m\u001b[39movo\u001b[39m\u001b[39m'\u001b[39m\u001b[39m, \u001b[39m\u001b[39m'\u001b[39m\u001b[39movr\u001b[39m\u001b[39m'\u001b[39m\u001b[39m)\u001b[39m\u001b[39m\"\u001b[39m)\n\u001b[0;32m--> 566\u001b[0m     \u001b[39mreturn\u001b[39;00m _multiclass_roc_auc_score(\n\u001b[1;32m    567\u001b[0m         y_true, y_score, labels, multi_class, average, sample_weight\n\u001b[1;32m    568\u001b[0m     )\n\u001b[1;32m    569\u001b[0m \u001b[39melif\u001b[39;00m y_type \u001b[39m==\u001b[39m \u001b[39m\"\u001b[39m\u001b[39mbinary\u001b[39m\u001b[39m\"\u001b[39m:\n\u001b[1;32m    570\u001b[0m     labels \u001b[39m=\u001b[39m np\u001b[39m.\u001b[39munique(y_true)\n",
      "File \u001b[0;32m/opt/homebrew/lib/python3.9/site-packages/sklearn/metrics/_ranking.py:683\u001b[0m, in \u001b[0;36m_multiclass_roc_auc_score\u001b[0;34m(y_true, y_score, labels, multi_class, average, sample_weight)\u001b[0m\n\u001b[1;32m    681\u001b[0m     classes \u001b[39m=\u001b[39m _unique(y_true)\n\u001b[1;32m    682\u001b[0m     \u001b[39mif\u001b[39;00m \u001b[39mlen\u001b[39m(classes) \u001b[39m!=\u001b[39m y_score\u001b[39m.\u001b[39mshape[\u001b[39m1\u001b[39m]:\n\u001b[0;32m--> 683\u001b[0m         \u001b[39mraise\u001b[39;00m \u001b[39mValueError\u001b[39;00m(\n\u001b[1;32m    684\u001b[0m             \u001b[39m\"\u001b[39m\u001b[39mNumber of classes in y_true not equal to the number of \u001b[39m\u001b[39m\"\u001b[39m\n\u001b[1;32m    685\u001b[0m             \u001b[39m\"\u001b[39m\u001b[39mcolumns in \u001b[39m\u001b[39m'\u001b[39m\u001b[39my_score\u001b[39m\u001b[39m'\u001b[39m\u001b[39m\"\u001b[39m\n\u001b[1;32m    686\u001b[0m         )\n\u001b[1;32m    688\u001b[0m \u001b[39mif\u001b[39;00m multi_class \u001b[39m==\u001b[39m \u001b[39m\"\u001b[39m\u001b[39movo\u001b[39m\u001b[39m\"\u001b[39m:\n\u001b[1;32m    689\u001b[0m     \u001b[39mif\u001b[39;00m sample_weight \u001b[39mis\u001b[39;00m \u001b[39mnot\u001b[39;00m \u001b[39mNone\u001b[39;00m:\n",
      "\u001b[0;31mValueError\u001b[0m: Number of classes in y_true not equal to the number of columns in 'y_score'"
     ]
    }
   ],
   "source": [
    "mf.training_pipeline(train_df, tc.estimator, tc.outcome_var, tc.predictors)"
   ]
  },
  {
   "cell_type": "code",
   "execution_count": 6,
   "metadata": {},
   "outputs": [
    {
     "name": "stdout",
     "output_type": "stream",
     "text": [
      "Unique values in target: [0 1 2]\n",
      "Target variable shape: (687,)\n"
     ]
    },
    {
     "data": {
      "text/plain": [
       "0      2\n",
       "1      2\n",
       "2      1\n",
       "3      2\n",
       "4      2\n",
       "      ..\n",
       "682    2\n",
       "683    2\n",
       "684    1\n",
       "685    2\n",
       "686    1\n",
       "Name: home_team_result, Length: 687, dtype: int64"
      ]
     },
     "execution_count": 6,
     "metadata": {},
     "output_type": "execute_result"
    }
   ],
   "source": [
    "import numpy as np\n",
    "\n",
    "print(\"Unique values in target:\", np.unique(train_df[tc.outcome_var]))\n",
    "print(\"Target variable shape:\", train_df[tc.outcome_var].shape)\n",
    "train_df[tc.outcome_var]"
   ]
  }
 ],
 "metadata": {
  "kernelspec": {
   "display_name": "Python 3",
   "language": "python",
   "name": "python3"
  },
  "language_info": {
   "codemirror_mode": {
    "name": "ipython",
    "version": 3
   },
   "file_extension": ".py",
   "mimetype": "text/x-python",
   "name": "python",
   "nbconvert_exporter": "python",
   "pygments_lexer": "ipython3",
   "version": "3.9.9"
  },
  "orig_nbformat": 4
 },
 "nbformat": 4,
 "nbformat_minor": 2
}
