{
 "cells": [
  {
   "attachments": {},
   "cell_type": "markdown",
   "metadata": {},
   "source": [
    "# Model Training"
   ]
  },
  {
   "cell_type": "code",
   "execution_count": 1,
   "metadata": {
    "execution": {
     "iopub.execute_input": "2023-06-19T23:12:41.418546Z",
     "iopub.status.busy": "2023-06-19T23:12:41.417512Z",
     "iopub.status.idle": "2023-06-19T23:12:42.314359Z",
     "shell.execute_reply": "2023-06-19T23:12:42.314674Z"
    }
   },
   "outputs": [],
   "source": [
    "#%pip install pandas\n",
    "#!pip3 install scikit-learn\n",
    "#%pip install xgboost \n",
    "\n",
    "import sys\n",
    "import pandas as pd\n",
    "import sqlite3\n",
    "import pathlib\n",
    "import numpy as np\n",
    "\n",
    "import xgboost as xgb\n",
    "from sklearn.ensemble import GradientBoostingClassifier, RandomForestClassifier\n",
    "from sklearn.utils import class_weight\n",
    "\n",
    "sys.path.append(\"model-training\") \n",
    "import modelling_functions as mf\n",
    "import training_config as tc"
   ]
  },
  {
   "cell_type": "code",
   "execution_count": 2,
   "metadata": {
    "execution": {
     "iopub.execute_input": "2023-06-19T23:12:42.318358Z",
     "iopub.status.busy": "2023-06-19T23:12:42.317871Z",
     "iopub.status.idle": "2023-06-19T23:12:42.420839Z",
     "shell.execute_reply": "2023-06-19T23:12:42.420475Z"
    }
   },
   "outputs": [],
   "source": [
    "# Get to the root directory\n",
    "project_root = pathlib.Path().absolute().parent.parent\n",
    "\n",
    "# Now construct the relative path to your SQLite database\n",
    "db_path = project_root / \"data\" / \"footy-tipper-db.sqlite\"\n",
    "\n",
    "# Connect to the SQLite database\n",
    "con = sqlite3.connect(str(db_path))\n",
    "\n",
    "# Read the data into a pandas dataframe\n",
    "footy_tipping_data = pd.read_sql_query(\"select * from footy_tipping_data\", con)\n",
    "\n",
    "# Don't forget to close the connection\n",
    "con.close()"
   ]
  },
  {
   "attachments": {},
   "cell_type": "markdown",
   "metadata": {},
   "source": [
    "## Modelling"
   ]
  },
  {
   "cell_type": "code",
   "execution_count": 3,
   "metadata": {
    "execution": {
     "iopub.execute_input": "2023-06-19T23:12:42.427181Z",
     "iopub.status.busy": "2023-06-19T23:12:42.426677Z",
     "iopub.status.idle": "2023-06-19T23:17:53.646301Z",
     "shell.execute_reply": "2023-06-19T23:17:53.646790Z"
    }
   },
   "outputs": [
    {
     "name": "stdout",
     "output_type": "stream",
     "text": [
      "Fitting 5 folds for each of 729 candidates, totalling 3645 fits\n",
      "{'colsample_bytree': 0.5, 'gamma': 0, 'learning_rate': 0.01, 'max_depth': 3, 'n_estimators': 50, 'subsample': 0.8}\n",
      "0.7341048900010427\n"
     ]
    }
   ],
   "source": [
    "xgb_estimator = xgb.XGBClassifier(n_jobs=-1)\n",
    "xgb_param_grid = {\n",
    "    'n_estimators': [50, 100, 200],\n",
    "    'learning_rate': [0.01, 0.1, 0.2],\n",
    "    'max_depth': [3, 4, 5],\n",
    "    'subsample': [0.8, 0.9, 1.0],\n",
    "    'colsample_bytree': [0.3, 0.5, 0.7],\n",
    "    'gamma': [0, 0.1, 0.2]\n",
    "}\n",
    "\n",
    "# Train the model and get the label encoder and game_id_inference\n",
    "tuned_model, X_inference, label_encoder, game_id_inference = mf.train_model_pipeline(\n",
    "    footy_tipping_data, tc.predictors, tc.outcome_var,\n",
    "    xgb_estimator, xgb_param_grid,\n",
    "    use_rfe=False, num_folds=tc.num_folds, opt_metric=tc.opt_metric\n",
    ")\n"
   ]
  },
  {
   "attachments": {},
   "cell_type": "markdown",
   "metadata": {},
   "source": [
    "## Make Predictions"
   ]
  },
  {
   "cell_type": "code",
   "execution_count": 4,
   "metadata": {
    "execution": {
     "iopub.execute_input": "2023-06-19T23:17:53.652740Z",
     "iopub.status.busy": "2023-06-19T23:17:53.652024Z",
     "iopub.status.idle": "2023-06-19T23:17:53.676694Z",
     "shell.execute_reply": "2023-06-19T23:17:53.677336Z"
    }
   },
   "outputs": [
    {
     "data": {
      "text/html": [
       "<div>\n",
       "<style scoped>\n",
       "    .dataframe tbody tr th:only-of-type {\n",
       "        vertical-align: middle;\n",
       "    }\n",
       "\n",
       "    .dataframe tbody tr th {\n",
       "        vertical-align: top;\n",
       "    }\n",
       "\n",
       "    .dataframe thead th {\n",
       "        text-align: right;\n",
       "    }\n",
       "</style>\n",
       "<table border=\"1\" class=\"dataframe\">\n",
       "  <thead>\n",
       "    <tr style=\"text-align: right;\">\n",
       "      <th></th>\n",
       "      <th>game_id</th>\n",
       "      <th>home_team_result</th>\n",
       "      <th>home_team_win_prob</th>\n",
       "      <th>home_team_lose_prob</th>\n",
       "    </tr>\n",
       "  </thead>\n",
       "  <tbody>\n",
       "    <tr>\n",
       "      <th>0</th>\n",
       "      <td>2.023111e+10</td>\n",
       "      <td>Loss</td>\n",
       "      <td>0.454515</td>\n",
       "      <td>0.545485</td>\n",
       "    </tr>\n",
       "    <tr>\n",
       "      <th>1</th>\n",
       "      <td>2.023111e+10</td>\n",
       "      <td>Loss</td>\n",
       "      <td>0.411844</td>\n",
       "      <td>0.588156</td>\n",
       "    </tr>\n",
       "    <tr>\n",
       "      <th>2</th>\n",
       "      <td>2.023111e+10</td>\n",
       "      <td>Win</td>\n",
       "      <td>0.633277</td>\n",
       "      <td>0.366723</td>\n",
       "    </tr>\n",
       "    <tr>\n",
       "      <th>3</th>\n",
       "      <td>2.023111e+10</td>\n",
       "      <td>Win</td>\n",
       "      <td>0.622936</td>\n",
       "      <td>0.377064</td>\n",
       "    </tr>\n",
       "    <tr>\n",
       "      <th>4</th>\n",
       "      <td>2.023111e+10</td>\n",
       "      <td>Win</td>\n",
       "      <td>0.622603</td>\n",
       "      <td>0.377397</td>\n",
       "    </tr>\n",
       "    <tr>\n",
       "      <th>5</th>\n",
       "      <td>2.023111e+10</td>\n",
       "      <td>Win</td>\n",
       "      <td>0.591078</td>\n",
       "      <td>0.408922</td>\n",
       "    </tr>\n",
       "    <tr>\n",
       "      <th>6</th>\n",
       "      <td>2.023111e+10</td>\n",
       "      <td>Win</td>\n",
       "      <td>0.546383</td>\n",
       "      <td>0.453617</td>\n",
       "    </tr>\n",
       "  </tbody>\n",
       "</table>\n",
       "</div>"
      ],
      "text/plain": [
       "        game_id home_team_result  home_team_win_prob  home_team_lose_prob\n",
       "0  2.023111e+10             Loss            0.454515             0.545485\n",
       "1  2.023111e+10             Loss            0.411844             0.588156\n",
       "2  2.023111e+10              Win            0.633277             0.366723\n",
       "3  2.023111e+10              Win            0.622936             0.377064\n",
       "4  2.023111e+10              Win            0.622603             0.377397\n",
       "5  2.023111e+10              Win            0.591078             0.408922\n",
       "6  2.023111e+10              Win            0.546383             0.453617"
      ]
     },
     "execution_count": 4,
     "metadata": {},
     "output_type": "execute_result"
    }
   ],
   "source": [
    "predictions_df = mf.model_predictions(tuned_model, X_inference, label_encoder, game_id_inference)\n",
    "predictions_df"
   ]
  },
  {
   "attachments": {},
   "cell_type": "markdown",
   "metadata": {},
   "source": [
    "## Write them back to the database"
   ]
  },
  {
   "cell_type": "code",
   "execution_count": 5,
   "metadata": {
    "execution": {
     "iopub.execute_input": "2023-06-19T23:17:53.685605Z",
     "iopub.status.busy": "2023-06-19T23:17:53.685019Z",
     "iopub.status.idle": "2023-06-19T23:17:53.688535Z",
     "shell.execute_reply": "2023-06-19T23:17:53.688961Z"
    }
   },
   "outputs": [],
   "source": [
    "# Connect to the SQLite database\n",
    "con = sqlite3.connect(str(db_path))\n",
    "\n",
    "# Create the table if it does not exist\n",
    "con.execute('''\n",
    "    CREATE TABLE IF NOT EXISTS predictions_table (\n",
    "        game_id INTEGER PRIMARY KEY,\n",
    "        home_team_result TEXT,\n",
    "        home_team_win_prob REAL,\n",
    "        home_team_lose_prob REAL\n",
    "    )\n",
    "''')\n",
    "\n",
    "# Write each row in the DataFrame to the database\n",
    "for index, row in predictions_df.iterrows():\n",
    "    con.execute('''\n",
    "        INSERT INTO predictions_table (\n",
    "            game_id,  \n",
    "            home_team_result, \n",
    "            home_team_win_prob, \n",
    "            home_team_lose_prob\n",
    "        ) VALUES (?, ?, ?, ?)\n",
    "        ON CONFLICT(game_id) DO UPDATE SET\n",
    "            home_team_result= excluded.home_team_result,\n",
    "            home_team_win_prob = excluded.home_team_win_prob,\n",
    "            home_team_lose_prob = excluded.home_team_lose_prob\n",
    "    ''', (\n",
    "        row['game_id'], \n",
    "        row['home_team_result'],\n",
    "        row['home_team_win_prob'],\n",
    "        row['home_team_lose_prob']\n",
    "    ))\n",
    "\n",
    "# Commit the transaction\n",
    "con.commit()\n",
    "\n",
    "# Close the connection\n",
    "con.close()\n"
   ]
  },
  {
   "cell_type": "code",
   "execution_count": 6,
   "metadata": {
    "execution": {
     "iopub.execute_input": "2023-06-19T23:17:53.692526Z",
     "iopub.status.busy": "2023-06-19T23:17:53.691891Z",
     "iopub.status.idle": "2023-06-19T23:17:53.695227Z",
     "shell.execute_reply": "2023-06-19T23:17:53.695627Z"
    }
   },
   "outputs": [],
   "source": [
    "# Connect to the SQLite database\n",
    "con = sqlite3.connect(str(db_path))\n",
    "\n",
    "# Read the data from predictions_table into a pandas DataFrame\n",
    "predictions_table = pd.read_sql_query(\"SELECT * FROM predictions_table\", con)\n",
    "\n",
    "# Close the connection\n",
    "con.close()"
   ]
  },
  {
   "cell_type": "code",
   "execution_count": 7,
   "metadata": {
    "execution": {
     "iopub.execute_input": "2023-06-19T23:17:53.701389Z",
     "iopub.status.busy": "2023-06-19T23:17:53.697594Z",
     "iopub.status.idle": "2023-06-19T23:17:53.704100Z",
     "shell.execute_reply": "2023-06-19T23:17:53.704563Z"
    }
   },
   "outputs": [
    {
     "data": {
      "text/html": [
       "<div>\n",
       "<style scoped>\n",
       "    .dataframe tbody tr th:only-of-type {\n",
       "        vertical-align: middle;\n",
       "    }\n",
       "\n",
       "    .dataframe tbody tr th {\n",
       "        vertical-align: top;\n",
       "    }\n",
       "\n",
       "    .dataframe thead th {\n",
       "        text-align: right;\n",
       "    }\n",
       "</style>\n",
       "<table border=\"1\" class=\"dataframe\">\n",
       "  <thead>\n",
       "    <tr style=\"text-align: right;\">\n",
       "      <th></th>\n",
       "      <th>game_id</th>\n",
       "      <th>home_team_result</th>\n",
       "      <th>home_team_win_prob</th>\n",
       "      <th>home_team_lose_prob</th>\n",
       "    </tr>\n",
       "  </thead>\n",
       "  <tbody>\n",
       "    <tr>\n",
       "      <th>0</th>\n",
       "      <td>20231111610</td>\n",
       "      <td>Loss</td>\n",
       "      <td>0.443841</td>\n",
       "      <td>0.556159</td>\n",
       "    </tr>\n",
       "    <tr>\n",
       "      <th>1</th>\n",
       "      <td>20231111620</td>\n",
       "      <td>Win</td>\n",
       "      <td>0.743889</td>\n",
       "      <td>0.256111</td>\n",
       "    </tr>\n",
       "    <tr>\n",
       "      <th>2</th>\n",
       "      <td>20231111630</td>\n",
       "      <td>Win</td>\n",
       "      <td>0.738226</td>\n",
       "      <td>0.261774</td>\n",
       "    </tr>\n",
       "    <tr>\n",
       "      <th>3</th>\n",
       "      <td>20231111640</td>\n",
       "      <td>Loss</td>\n",
       "      <td>0.311119</td>\n",
       "      <td>0.688881</td>\n",
       "    </tr>\n",
       "    <tr>\n",
       "      <th>4</th>\n",
       "      <td>20231111650</td>\n",
       "      <td>Win</td>\n",
       "      <td>0.783201</td>\n",
       "      <td>0.216799</td>\n",
       "    </tr>\n",
       "    <tr>\n",
       "      <th>5</th>\n",
       "      <td>20231111710</td>\n",
       "      <td>Loss</td>\n",
       "      <td>0.454515</td>\n",
       "      <td>0.545485</td>\n",
       "    </tr>\n",
       "    <tr>\n",
       "      <th>6</th>\n",
       "      <td>20231111720</td>\n",
       "      <td>Loss</td>\n",
       "      <td>0.411844</td>\n",
       "      <td>0.588156</td>\n",
       "    </tr>\n",
       "    <tr>\n",
       "      <th>7</th>\n",
       "      <td>20231111730</td>\n",
       "      <td>Win</td>\n",
       "      <td>0.633277</td>\n",
       "      <td>0.366723</td>\n",
       "    </tr>\n",
       "    <tr>\n",
       "      <th>8</th>\n",
       "      <td>20231111740</td>\n",
       "      <td>Win</td>\n",
       "      <td>0.622936</td>\n",
       "      <td>0.377064</td>\n",
       "    </tr>\n",
       "    <tr>\n",
       "      <th>9</th>\n",
       "      <td>20231111750</td>\n",
       "      <td>Win</td>\n",
       "      <td>0.622603</td>\n",
       "      <td>0.377397</td>\n",
       "    </tr>\n",
       "    <tr>\n",
       "      <th>10</th>\n",
       "      <td>20231111760</td>\n",
       "      <td>Win</td>\n",
       "      <td>0.591078</td>\n",
       "      <td>0.408922</td>\n",
       "    </tr>\n",
       "    <tr>\n",
       "      <th>11</th>\n",
       "      <td>20231111770</td>\n",
       "      <td>Win</td>\n",
       "      <td>0.546383</td>\n",
       "      <td>0.453617</td>\n",
       "    </tr>\n",
       "  </tbody>\n",
       "</table>\n",
       "</div>"
      ],
      "text/plain": [
       "        game_id home_team_result  home_team_win_prob  home_team_lose_prob\n",
       "0   20231111610             Loss            0.443841             0.556159\n",
       "1   20231111620              Win            0.743889             0.256111\n",
       "2   20231111630              Win            0.738226             0.261774\n",
       "3   20231111640             Loss            0.311119             0.688881\n",
       "4   20231111650              Win            0.783201             0.216799\n",
       "5   20231111710             Loss            0.454515             0.545485\n",
       "6   20231111720             Loss            0.411844             0.588156\n",
       "7   20231111730              Win            0.633277             0.366723\n",
       "8   20231111740              Win            0.622936             0.377064\n",
       "9   20231111750              Win            0.622603             0.377397\n",
       "10  20231111760              Win            0.591078             0.408922\n",
       "11  20231111770              Win            0.546383             0.453617"
      ]
     },
     "execution_count": 7,
     "metadata": {},
     "output_type": "execute_result"
    }
   ],
   "source": [
    "predictions_table"
   ]
  },
  {
   "attachments": {},
   "cell_type": "markdown",
   "metadata": {},
   "source": [
    "# Other models"
   ]
  },
  {
   "cell_type": "code",
   "execution_count": 8,
   "metadata": {
    "execution": {
     "iopub.execute_input": "2023-06-19T23:17:53.708578Z",
     "iopub.status.busy": "2023-06-19T23:17:53.707418Z",
     "iopub.status.idle": "2023-06-19T23:17:53.709247Z",
     "shell.execute_reply": "2023-06-19T23:17:53.709658Z"
    }
   },
   "outputs": [],
   "source": [
    "# # RandomForest\n",
    "# rf_estimator = RandomForestClassifier(n_jobs=-1, class_weight='balanced')\n",
    "# rf_param_grid = {\n",
    "#     'n_estimators': [50, 100, 200],\n",
    "#     'max_features': ['sqrt', 'log2'],\n",
    "#     'max_depth': [None, 10, 20, 30],\n",
    "#     'min_samples_split': [2, 5, 10],\n",
    "#     'min_samples_leaf': [1, 2, 4],\n",
    "#     'bootstrap': [True, False]\n",
    "# }\n",
    "# cv_rf = mf.training_pipeline(train_df, rf_estimator, rf_param_grid, tc.outcome_var, tc.predictors, tc.opt_metric)"
   ]
  },
  {
   "cell_type": "code",
   "execution_count": 9,
   "metadata": {
    "execution": {
     "iopub.execute_input": "2023-06-19T23:17:53.713055Z",
     "iopub.status.busy": "2023-06-19T23:17:53.712319Z",
     "iopub.status.idle": "2023-06-19T23:17:53.713914Z",
     "shell.execute_reply": "2023-06-19T23:17:53.714823Z"
    }
   },
   "outputs": [],
   "source": [
    "# # GradientBoosting\n",
    "# gb_estimator = GradientBoostingClassifier()\n",
    "# gb_param_grid = {\n",
    "#     'n_estimators': [50, 100, 200],\n",
    "#     'learning_rate': [0.01, 0.1, 0.2],\n",
    "#     'max_depth': [3, 4, 5],\n",
    "#     'min_samples_split': [2, 5, 10],\n",
    "#     'min_samples_leaf': [1, 2, 4],\n",
    "#     'subsample': [0.8, 0.9, 1.0],\n",
    "#     'max_features': ['sqrt', 'log2']\n",
    "# }\n",
    "# cv_gb = mf.training_pipeline(train_df, gb_estimator, gb_param_grid, tc.outcome_var, tc.predictors, tc.opt_metric)"
   ]
  },
  {
   "cell_type": "code",
   "execution_count": 10,
   "metadata": {
    "execution": {
     "iopub.execute_input": "2023-06-19T23:17:53.718153Z",
     "iopub.status.busy": "2023-06-19T23:17:53.717497Z",
     "iopub.status.idle": "2023-06-19T23:17:53.719031Z",
     "shell.execute_reply": "2023-06-19T23:17:53.719362Z"
    }
   },
   "outputs": [],
   "source": [
    "# # LightGBM\n",
    "# lgb_estimator = lgb.LGBMClassifier(n_jobs=-1)\n",
    "# xgb_param_grid = {\n",
    "#     'n_estimators': [50, 100, 200, 500],\n",
    "#     'learning_rate': [0.01, 0.1, 0.2],\n",
    "#     'max_depth': [3, 4, 5],\n",
    "#     'subsample': [0.8, 0.9, 1.0],\n",
    "#     'colsample_bytree': [0.3, 0.5, 0.7],\n",
    "#     'gamma': [0, 0.1, 0.2]\n",
    "# }\n",
    "# cv_lgb = training_pipeline(train_df, lgb_estimator, lgb_param_grid, tc.outcome_var, tc.predictors, tc.opt_metric)"
   ]
  }
 ],
 "metadata": {
  "kernelspec": {
   "display_name": "Python 3",
   "language": "python",
   "name": "python3"
  },
  "language_info": {
   "codemirror_mode": {
    "name": "ipython",
    "version": 3
   },
   "file_extension": ".py",
   "mimetype": "text/x-python",
   "name": "python",
   "nbconvert_exporter": "python",
   "pygments_lexer": "ipython3",
   "version": "3.9.6"
  }
 },
 "nbformat": 4,
 "nbformat_minor": 2
}
