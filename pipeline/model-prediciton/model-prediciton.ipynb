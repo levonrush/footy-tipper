{
 "cells": [
  {
   "cell_type": "code",
   "execution_count": null,
   "metadata": {},
   "outputs": [],
   "source": [
    "import pathlib\n",
    "from joblib import load"
   ]
  },
  {
   "cell_type": "code",
   "execution_count": null,
   "metadata": {},
   "outputs": [],
   "source": [
    "# Get to the root directory\n",
    "project_root = pathlib.Path().absolute().parent.parent\n",
    "\n",
    "# Now construct the relative path to your SQLite database\n",
    "db_path = project_root / \"data\" / \"footy-tipper-db.sqlite\"\n",
    "\n",
    "# Connect to the SQLite database\n",
    "con = sqlite3.connect(str(db_path))\n",
    "\n",
    "# Read SQL query from external SQL file\n",
    "with open('sql/footy_tipping_data.sql', 'r') as file:\n",
    "    query = file.read()\n",
    "\n",
    "footy_tipping_data = pd.read_sql_query(query, con)\n",
    "\n",
    "# Don't forget to close the connection\n",
    "con.close()\n",
    "\n",
    "footy_tipping_data"
   ]
  },
  {
   "cell_type": "code",
   "execution_count": null,
   "metadata": {},
   "outputs": [],
   "source": [
    "# Get to the root directory\n",
    "project_root = pathlib.Path().absolute().parent.parent\n",
    "\n",
    "# Define the directory and filename where you want to save your model\n",
    "model_dir = project_root / \"models\"\n",
    "\n",
    "# Load the model and other objects\n",
    "footy_tipper_model = load(model_dir / \"footy_tipper_model.joblib\")\n",
    "label_encoder = load(model_dir / \"label_encoder.joblib\")"
   ]
  },
  {
   "cell_type": "code",
   "execution_count": null,
   "metadata": {},
   "outputs": [],
   "source": []
  },
  {
   "cell_type": "code",
   "execution_count": null,
   "metadata": {},
   "outputs": [],
   "source": []
  },
  {
   "cell_type": "code",
   "execution_count": null,
   "metadata": {},
   "outputs": [],
   "source": []
  },
  {
   "cell_type": "code",
   "execution_count": null,
   "metadata": {},
   "outputs": [],
   "source": []
  },
  {
   "cell_type": "code",
   "execution_count": null,
   "metadata": {},
   "outputs": [],
   "source": [
    "predictions_df = mf.model_predictions(footy_tipper_model, X_inference, label_encoder, game_id_inference)\n",
    "predictions_df"
   ]
  },
  {
   "cell_type": "code",
   "execution_count": null,
   "metadata": {},
   "outputs": [],
   "source": [
    "# Connect to the SQLite database\n",
    "con = sqlite3.connect(str(db_path))\n",
    "\n",
    "# Read SQL query from external SQL file and create table\n",
    "with open('sql/create_table.sql', 'r') as file:\n",
    "    create_table_query = file.read()\n",
    "con.execute(create_table_query)\n",
    "\n",
    "# Read SQL query from external SQL file for insertion\n",
    "with open('sql/insert_into_table.sql', 'r') as file:\n",
    "    insert_into_table_query = file.read()\n",
    "\n",
    "# Write each row in the DataFrame to the database\n",
    "for index, row in predictions_df.iterrows():\n",
    "    con.execute(insert_into_table_query, (\n",
    "        row['game_id'], \n",
    "        row['home_team_result'],\n",
    "        row['home_team_win_prob'],\n",
    "        row['home_team_lose_prob']\n",
    "    ))\n",
    "\n",
    "# Commit the transaction\n",
    "con.commit()\n",
    "\n",
    "# Close the connection\n",
    "con.close()"
   ]
  }
 ],
 "metadata": {
  "language_info": {
   "name": "python"
  },
  "orig_nbformat": 4
 },
 "nbformat": 4,
 "nbformat_minor": 2
}
