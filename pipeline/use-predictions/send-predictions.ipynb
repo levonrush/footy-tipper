{
 "cells": [
  {
   "attachments": {},
   "cell_type": "markdown",
   "metadata": {},
   "source": [
    "# Send my predictions to the boys\n",
    "This system functions as a seamless pipeline that performs a series of intriguing operations, the primary of which is sourcing the current week's Footy Tipper predictions. With this information in hand, the pipeline proceeds to the next stage where it employs the advanced linguistic abilities of ChatGPT. Mimicking the persona of Reg Regan, the AI drafts an engaging and informed email containing the predictions. Upon completion, the email is dispatched to the boys, ensuring they are consistently kept in the loop with the latest Footy Tipper forecasts. The entire operation is a seamless fusion of sports analytics and artificial intelligence, creating an engaging and personalized user experience.\n",
    "\n",
    "## Set up environment\n",
    "The setup environment section of this project involves importing crucial libraries such as os, sys, sqlite3, pathlib, and pandas for various functionalities, along with dotenv for loading environment variables. Custom functions from the 'use-predictions' directory are also imported. Paths are established to the SQLite database, the secrets environment file, and a service account token file. Lastly, the script loads environment variables from the secrets file, enhancing security for sensitive elements."
   ]
  },
  {
   "cell_type": "code",
   "execution_count": 1,
   "metadata": {},
   "outputs": [
    {
     "data": {
      "text/plain": [
       "True"
      ]
     },
     "execution_count": 1,
     "metadata": {},
     "output_type": "execute_result"
    }
   ],
   "source": [
    "# for the predictions\n",
    "import os\n",
    "import sys\n",
    "import sqlite3\n",
    "import pathlib\n",
    "import pandas as pd\n",
    "from dotenv import load_dotenv\n",
    "\n",
    "# my funcitons\n",
    "sys.path.append(\"functions\") \n",
    "import sending_functions as sf\n",
    "\n",
    "# Get to the root directory\n",
    "project_root = pathlib.Path().absolute().parent.parent\n",
    "\n",
    "# Now construct the relative path to your SQLite database\n",
    "db_path = project_root / \"data\" / \"footy-tipper-db.sqlite\"\n",
    "secrets_path = project_root / \"secrets.env\"\n",
    "json_path = project_root / \"service-account-token.json\"\n",
    "\n",
    "# lead secrets\n",
    "load_dotenv(dotenv_path=secrets_path)"
   ]
  },
  {
   "attachments": {},
   "cell_type": "markdown",
   "metadata": {},
   "source": [
    "## Get prediciton data\n",
    "For acquiring prediction data, the script begins by establishing a connection with the SQLite database using the established db_path. Once the connection is created, an SQL query is read from an external file named 'prediction_table.sql'. This query is designed to retrieve the necessary prediction data. The script then executes this query against the SQLite database and fetches the results into a Pandas DataFrame, predictions, enabling further data manipulation and analysis. Following the successful extraction of prediction data, the script closes the connection to the SQLite database to maintain good programming practice. The predictions dataframe is then displayed to review the retrieved data."
   ]
  },
  {
   "cell_type": "code",
   "execution_count": 2,
   "metadata": {},
   "outputs": [
    {
     "data": {
      "text/html": [
       "<div>\n",
       "<style scoped>\n",
       "    .dataframe tbody tr th:only-of-type {\n",
       "        vertical-align: middle;\n",
       "    }\n",
       "\n",
       "    .dataframe tbody tr th {\n",
       "        vertical-align: top;\n",
       "    }\n",
       "\n",
       "    .dataframe thead th {\n",
       "        text-align: right;\n",
       "    }\n",
       "</style>\n",
       "<table border=\"1\" class=\"dataframe\">\n",
       "  <thead>\n",
       "    <tr style=\"text-align: right;\">\n",
       "      <th></th>\n",
       "      <th>game_id</th>\n",
       "      <th>home_team_result</th>\n",
       "      <th>team_home</th>\n",
       "      <th>position_home</th>\n",
       "      <th>team_head_to_head_odds_home</th>\n",
       "      <th>team_away</th>\n",
       "      <th>position_away</th>\n",
       "      <th>team_head_to_head_odds_away</th>\n",
       "      <th>home_team_win_prob</th>\n",
       "      <th>home_team_lose_prob</th>\n",
       "      <th>round_id</th>\n",
       "      <th>competition_year</th>\n",
       "      <th>round_name</th>\n",
       "    </tr>\n",
       "  </thead>\n",
       "  <tbody>\n",
       "    <tr>\n",
       "      <th>0</th>\n",
       "      <td>20231112710</td>\n",
       "      <td>Win</td>\n",
       "      <td>Brisbane Broncos</td>\n",
       "      <td>1</td>\n",
       "      <td>1.62</td>\n",
       "      <td>Melbourne Storm</td>\n",
       "      <td>4</td>\n",
       "      <td>2.30</td>\n",
       "      <td>0.588932</td>\n",
       "      <td>0.411068</td>\n",
       "      <td>27</td>\n",
       "      <td>2023</td>\n",
       "      <td>Round 27</td>\n",
       "    </tr>\n",
       "    <tr>\n",
       "      <th>1</th>\n",
       "      <td>20231112720</td>\n",
       "      <td>Win</td>\n",
       "      <td>Manly-Warringah Sea Eagles</td>\n",
       "      <td>12</td>\n",
       "      <td>1.22</td>\n",
       "      <td>Wests Tigers</td>\n",
       "      <td>17</td>\n",
       "      <td>4.35</td>\n",
       "      <td>0.846276</td>\n",
       "      <td>0.153724</td>\n",
       "      <td>27</td>\n",
       "      <td>2023</td>\n",
       "      <td>Round 27</td>\n",
       "    </tr>\n",
       "    <tr>\n",
       "      <th>2</th>\n",
       "      <td>20231112730</td>\n",
       "      <td>Win</td>\n",
       "      <td>South Sydney Rabbitohs</td>\n",
       "      <td>8</td>\n",
       "      <td>1.69</td>\n",
       "      <td>Sydney Roosters</td>\n",
       "      <td>10</td>\n",
       "      <td>2.18</td>\n",
       "      <td>0.519005</td>\n",
       "      <td>0.480995</td>\n",
       "      <td>27</td>\n",
       "      <td>2023</td>\n",
       "      <td>Round 27</td>\n",
       "    </tr>\n",
       "    <tr>\n",
       "      <th>3</th>\n",
       "      <td>20231112740</td>\n",
       "      <td>Win</td>\n",
       "      <td>Dolphins</td>\n",
       "      <td>14</td>\n",
       "      <td>1.60</td>\n",
       "      <td>New Zealand Warriors</td>\n",
       "      <td>3</td>\n",
       "      <td>2.34</td>\n",
       "      <td>0.554179</td>\n",
       "      <td>0.445821</td>\n",
       "      <td>27</td>\n",
       "      <td>2023</td>\n",
       "      <td>Round 27</td>\n",
       "    </tr>\n",
       "    <tr>\n",
       "      <th>4</th>\n",
       "      <td>20231112750</td>\n",
       "      <td>Win</td>\n",
       "      <td>Penrith Panthers</td>\n",
       "      <td>2</td>\n",
       "      <td>1.31</td>\n",
       "      <td>North Queensland Cowboys</td>\n",
       "      <td>9</td>\n",
       "      <td>3.46</td>\n",
       "      <td>0.798648</td>\n",
       "      <td>0.201352</td>\n",
       "      <td>27</td>\n",
       "      <td>2023</td>\n",
       "      <td>Round 27</td>\n",
       "    </tr>\n",
       "    <tr>\n",
       "      <th>5</th>\n",
       "      <td>20231112760</td>\n",
       "      <td>Loss</td>\n",
       "      <td>St. George Illawarra Dragons</td>\n",
       "      <td>16</td>\n",
       "      <td>2.01</td>\n",
       "      <td>Newcastle Knights</td>\n",
       "      <td>5</td>\n",
       "      <td>1.83</td>\n",
       "      <td>0.459382</td>\n",
       "      <td>0.540618</td>\n",
       "      <td>27</td>\n",
       "      <td>2023</td>\n",
       "      <td>Round 27</td>\n",
       "    </tr>\n",
       "    <tr>\n",
       "      <th>6</th>\n",
       "      <td>20231112770</td>\n",
       "      <td>Win</td>\n",
       "      <td>Gold Coast Titans</td>\n",
       "      <td>13</td>\n",
       "      <td>1.29</td>\n",
       "      <td>Canterbury-Bankstown Bulldogs</td>\n",
       "      <td>15</td>\n",
       "      <td>3.66</td>\n",
       "      <td>0.773825</td>\n",
       "      <td>0.226175</td>\n",
       "      <td>27</td>\n",
       "      <td>2023</td>\n",
       "      <td>Round 27</td>\n",
       "    </tr>\n",
       "    <tr>\n",
       "      <th>7</th>\n",
       "      <td>20231112780</td>\n",
       "      <td>Win</td>\n",
       "      <td>Cronulla-Sutherland Sharks</td>\n",
       "      <td>6</td>\n",
       "      <td>1.30</td>\n",
       "      <td>Canberra Raiders</td>\n",
       "      <td>7</td>\n",
       "      <td>3.57</td>\n",
       "      <td>0.670201</td>\n",
       "      <td>0.329799</td>\n",
       "      <td>27</td>\n",
       "      <td>2023</td>\n",
       "      <td>Round 27</td>\n",
       "    </tr>\n",
       "  </tbody>\n",
       "</table>\n",
       "</div>"
      ],
      "text/plain": [
       "       game_id home_team_result                     team_home  position_home  \\\n",
       "0  20231112710              Win              Brisbane Broncos              1   \n",
       "1  20231112720              Win    Manly-Warringah Sea Eagles             12   \n",
       "2  20231112730              Win        South Sydney Rabbitohs              8   \n",
       "3  20231112740              Win                      Dolphins             14   \n",
       "4  20231112750              Win              Penrith Panthers              2   \n",
       "5  20231112760             Loss  St. George Illawarra Dragons             16   \n",
       "6  20231112770              Win             Gold Coast Titans             13   \n",
       "7  20231112780              Win    Cronulla-Sutherland Sharks              6   \n",
       "\n",
       "   team_head_to_head_odds_home                      team_away  position_away  \\\n",
       "0                         1.62                Melbourne Storm              4   \n",
       "1                         1.22                   Wests Tigers             17   \n",
       "2                         1.69                Sydney Roosters             10   \n",
       "3                         1.60           New Zealand Warriors              3   \n",
       "4                         1.31       North Queensland Cowboys              9   \n",
       "5                         2.01              Newcastle Knights              5   \n",
       "6                         1.29  Canterbury-Bankstown Bulldogs             15   \n",
       "7                         1.30               Canberra Raiders              7   \n",
       "\n",
       "   team_head_to_head_odds_away  home_team_win_prob  home_team_lose_prob  \\\n",
       "0                         2.30            0.588932             0.411068   \n",
       "1                         4.35            0.846276             0.153724   \n",
       "2                         2.18            0.519005             0.480995   \n",
       "3                         2.34            0.554179             0.445821   \n",
       "4                         3.46            0.798648             0.201352   \n",
       "5                         1.83            0.459382             0.540618   \n",
       "6                         3.66            0.773825             0.226175   \n",
       "7                         3.57            0.670201             0.329799   \n",
       "\n",
       "   round_id  competition_year round_name  \n",
       "0        27              2023   Round 27  \n",
       "1        27              2023   Round 27  \n",
       "2        27              2023   Round 27  \n",
       "3        27              2023   Round 27  \n",
       "4        27              2023   Round 27  \n",
       "5        27              2023   Round 27  \n",
       "6        27              2023   Round 27  \n",
       "7        27              2023   Round 27  "
      ]
     },
     "execution_count": 2,
     "metadata": {},
     "output_type": "execute_result"
    }
   ],
   "source": [
    "# Connect to the SQLite database\n",
    "con = sqlite3.connect(str(db_path))\n",
    "\n",
    "# Read SQL query from external SQL file\n",
    "with open('sql/prediction_table.sql', 'r') as file:\n",
    "    query = file.read()\n",
    "\n",
    "# Execute the query and fetch the results into a data frame\n",
    "predictions = pd.read_sql_query(query, con)\n",
    "\n",
    "# Disconnect from the SQLite database\n",
    "con.close()\n",
    "\n",
    "predictions"
   ]
  },
  {
   "attachments": {},
   "cell_type": "markdown",
   "metadata": {},
   "source": [
    "## Get Tipper Picks\n",
    "For the crucial step of deriving the 'tipper picks', the function get_tipper_picks() from the previously imported 'sending_functions' module is used. This function operates on the predictions DataFrame, sifting through the data to identify the best market value based on the provided predictions. These selections, aptly named 'tipper picks', represent the optimal choices for those among the boys who are keen to place a punt. After the function has identified the 'tipper picks', these selections are assigned to the tipper_picks DataFrame for easy reference and further usage. This DataFrame is then displayed for review and verification."
   ]
  },
  {
   "cell_type": "code",
   "execution_count": 3,
   "metadata": {},
   "outputs": [
    {
     "data": {
      "text/html": [
       "<div>\n",
       "<style scoped>\n",
       "    .dataframe tbody tr th:only-of-type {\n",
       "        vertical-align: middle;\n",
       "    }\n",
       "\n",
       "    .dataframe tbody tr th {\n",
       "        vertical-align: top;\n",
       "    }\n",
       "\n",
       "    .dataframe thead th {\n",
       "        text-align: right;\n",
       "    }\n",
       "</style>\n",
       "<table border=\"1\" class=\"dataframe\">\n",
       "  <thead>\n",
       "    <tr style=\"text-align: right;\">\n",
       "      <th></th>\n",
       "      <th>team</th>\n",
       "      <th>price</th>\n",
       "      <th>price_min</th>\n",
       "    </tr>\n",
       "  </thead>\n",
       "  <tbody>\n",
       "  </tbody>\n",
       "</table>\n",
       "</div>"
      ],
      "text/plain": [
       "Empty DataFrame\n",
       "Columns: [team, price, price_min]\n",
       "Index: []"
      ]
     },
     "execution_count": 3,
     "metadata": {},
     "output_type": "execute_result"
    }
   ],
   "source": [
    "tipper_picks = sf.get_tipper_picks(predictions)\n",
    "tipper_picks"
   ]
  },
  {
   "attachments": {},
   "cell_type": "markdown",
   "metadata": {},
   "source": [
    "## Save predicitons\n",
    "In the 'Save Predictions' section, the predictions data, stored in the predictions DataFrame, is saved to Google Drive for record-keeping and future reference. This is accomplished using the upload_df_to_drive() function from the 'sending_functions' module. This function takes four arguments: the DataFrame to be uploaded (predictions), the path to the service account token (json_path), the Google Drive folder ID (which is securely accessed using os.getenv('FOLDER_ID') to fetch the environment variable), and the desired name of the file to be saved in the drive (\"predictions.csv\"). This process ensures that the valuable predictions data is not only used in the immediate context but also archived securely in Google Drive for potential future usage or analysis."
   ]
  },
  {
   "cell_type": "code",
   "execution_count": 4,
   "metadata": {},
   "outputs": [
    {
     "name": "stdout",
     "output_type": "stream",
     "text": [
      "File ID: 1fQBYK2Kl9_QjOGu6qlhFcQdArfg3SOTd\n"
     ]
    }
   ],
   "source": [
    "sf.upload_df_to_drive(\n",
    "    predictions, \n",
    "    json_path, \n",
    "    os.getenv('FOLDER_ID'), \n",
    "    \"predictions.csv\"\n",
    ")"
   ]
  },
  {
   "attachments": {},
   "cell_type": "markdown",
   "metadata": {},
   "source": [
    "## Reg R-ai-gan\n",
    "\n",
    "In the 'Reg Regan Email Generation' phase, the system employs the sophisticated language model, ChatGPT, to draft an email encapsulating the week's footy predictions and tipper picks. The generate_reg_regan_email() function, hailing from the 'sending_functions' module, facilitates this operation. It accepts four arguments: the predictions and tipper_picks DataFrames, which contain the necessary information for the email content; the OpenAI API key (os.getenv('OPENAI_KEY')), fetched securely from the environment variables, which grants the ability to access the language model; and the URL of the Google Drive folder (os.getenv('FOLDER_URL')), to which the predictions.csv file was uploaded. The function compiles this information into an engaging, intelligently crafted email, channeling the persona of Reg Regan. Once the email is generated, it's assigned to the reg_regan variable and printed out for review before being sent to the boys."
   ]
  },
  {
   "cell_type": "code",
   "execution_count": 5,
   "metadata": {},
   "outputs": [
    {
     "name": "stderr",
     "output_type": "stream",
     "text": [
      "/opt/homebrew/lib/python3.11/site-packages/langchain/llms/openai.py:173: UserWarning: You are trying to use a chat model. This way of initializing it is no longer supported. Instead, please use: `from langchain.chat_models import ChatOpenAI`\n",
      "  warnings.warn(\n",
      "/opt/homebrew/lib/python3.11/site-packages/langchain/llms/openai.py:751: UserWarning: You are trying to use a chat model. This way of initializing it is no longer supported. Instead, please use: `from langchain.chat_models import ChatOpenAI`\n",
      "  warnings.warn(\n"
     ]
    },
    {
     "name": "stdout",
     "output_type": "stream",
     "text": [
      "Subject: Round 27 Tips and Reg's Ruminations\n",
      "\n",
      "G'day Brutes,\n",
      "\n",
      "Buckle up your boots, the footy is about to get frisky! I've got some pearls from the Footy Tipper to keep all you blokes entertained. Here's what the technobabble suggests for Round 27 of NRL.\n",
      "\n",
      "Firstly, according to the all-knowing machine, the Broncos are set to trample the Storm, a bit of a shocker considering their standings. Bit of a tough sell, for the top-ranked Broncos at 1.62, but maybe it's the home ground advantage?\n",
      "\n",
      "Manly is predicted to embarrass the Tigers - not that hard, really, they're 17th. But let's not forget, they're still Manly (Ugh!).\n",
      "\n",
      "Rabbitohs are predicted to clip the Roosters' wings, my machine apparently has no love for poultry.\n",
      "\n",
      "Our newly anointed Dolphins are set to take down the third placed Warriors. That's one for the books!\n",
      "\n",
      "Panthers are touted to pounce on the Cowboys, second place against ninth lads, not much to argue there.\n",
      "\n",
      "Now it gets interesting, Knights are predicted to slay the Dragons, proving once again that us Novocastrians are made of pure steel.\n",
      "\n",
      "The Titans are set to dominate Bulldogs - two mid-tier teams but seems like Titans have the upper snout. \n",
      "\n",
      "Now, the Sharks appear to have more bite than our Raiders (not that it's hard), and are set to win this seafaring battle.\n",
      "\n",
      "Now, let's chat about the surefire hits if you fancy a flutter: (Link: https://drive.google.com/drive/u/1/folders/1lT1SQH-kQPdnOf3ftomobuiv51jEj6t-)\n",
      "\n",
      "Word of advice, as much as I loathe Manly, the 1.22 for them looks a good steal, they'll probably win (depressingly). Aside from that, Knights at 1.83, looks tempting. A victory there will be double sweet!\n",
      "\n",
      "That's it folks! Remember, it's just a bit of fun, and whatever you do...Bring Back the Biff! Don't forget mates, hate Manly, always have, always will.\n",
      "\n",
      "Buzzing for the carnage lads, let's have it!\n",
      "\n",
      "Reg Reagan.\n"
     ]
    }
   ],
   "source": [
    "reg_reagan = sf.generate_reg_regan_email(\n",
    "    predictions, \n",
    "    tipper_picks, \n",
    "    os.getenv('OPENAI_KEY'), \n",
    "    os.getenv('FOLDER_URL'),\n",
    "    1\n",
    ")\n",
    "\n",
    "print(reg_reagan)"
   ]
  },
  {
   "attachments": {},
   "cell_type": "markdown",
   "metadata": {},
   "source": [
    "## Send emails\n",
    "The final phase, 'Send Emails', sees the footy predictions being disseminated to the intended recipients. The send_emails() function from the 'sending_functions' module is invoked to accomplish this. It accepts several parameters: \"footy-tipper-email-list\", which is the list of recipients who will receive the email; a formatted string that serves as the email subject, dynamically including the round name from the predictions DataFrame; the reg_regan variable, which contains the email content; and the sender's email and password, fetched securely from the environment variables via os.getenv('MY_EMAIL') and os.getenv('EMAIL_PASSWORD') respectively. Finally, it takes the json_path, which might be required for email client authentication. This operation results in all the boys on the email list promptly receiving an email filled with the week's Footy Tipper predictions and tipper picks, all expressed in the unmistakable tone of Reg Regan."
   ]
  },
  {
   "cell_type": "code",
   "execution_count": 6,
   "metadata": {},
   "outputs": [],
   "source": [
    "sf.send_emails(\n",
    "    \"footy-tipper-email-list\", \n",
    "    f\"Footy Tipper Predictions for {predictions['round_name'].unique()[0]}\", \n",
    "    reg_reagan, \n",
    "    os.getenv('MY_EMAIL'), \n",
    "    os.getenv('EMAIL_PASSWORD'), \n",
    "    json_path\n",
    ")"
   ]
  }
 ],
 "metadata": {
  "kernelspec": {
   "display_name": "Python 3",
   "language": "python",
   "name": "python3"
  },
  "language_info": {
   "codemirror_mode": {
    "name": "ipython",
    "version": 3
   },
   "file_extension": ".py",
   "mimetype": "text/x-python",
   "name": "python",
   "nbconvert_exporter": "python",
   "pygments_lexer": "ipython3",
   "version": "3.11.4"
  },
  "orig_nbformat": 4
 },
 "nbformat": 4,
 "nbformat_minor": 2
}
