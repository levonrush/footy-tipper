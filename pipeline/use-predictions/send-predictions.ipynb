{
 "cells": [
  {
   "attachments": {},
   "cell_type": "markdown",
   "metadata": {},
   "source": [
    "# Send my predictions to the boys\n",
    "This system functions as a seamless pipeline that performs a series of intriguing operations, the primary of which is sourcing the current week's Footy Tipper predictions. With this information in hand, the pipeline proceeds to the next stage where it employs the advanced linguistic abilities of ChatGPT. Mimicking the persona of Reg Regan, the AI drafts an engaging and informed email containing the predictions. Upon completion, the email is dispatched to the boys, ensuring they are consistently kept in the loop with the latest Footy Tipper forecasts. The entire operation is a seamless fusion of sports analytics and artificial intelligence, creating an engaging and personalized user experience.\n",
    "\n",
    "## Set up environment\n",
    "The setup environment section of this project involves importing crucial libraries such as os, sys, sqlite3, pathlib, and pandas for various functionalities, along with dotenv for loading environment variables. Custom functions from the 'use-predictions' directory are also imported. Paths are established to the SQLite database, the secrets environment file, and a service account token file. Lastly, the script loads environment variables from the secrets file, enhancing security for sensitive elements."
   ]
  },
  {
   "cell_type": "code",
   "execution_count": 1,
   "metadata": {},
   "outputs": [
    {
     "data": {
      "text/plain": [
       "True"
      ]
     },
     "execution_count": 1,
     "metadata": {},
     "output_type": "execute_result"
    }
   ],
   "source": [
    "# for the predictions\n",
    "import os\n",
    "import sys\n",
    "import sqlite3\n",
    "import pathlib\n",
    "import pandas as pd\n",
    "from dotenv import load_dotenv\n",
    "\n",
    "# my funcitons\n",
    "sys.path.append(\"functions\") \n",
    "import sending_functions as sf\n",
    "\n",
    "# Get to the root directory\n",
    "project_root = pathlib.Path().absolute().parent.parent\n",
    "\n",
    "# Now construct the relative path to your SQLite database\n",
    "db_path = project_root / \"data\" / \"footy-tipper-db.sqlite\"\n",
    "secrets_path = project_root / \"secrets.env\"\n",
    "json_path = project_root / \"service-account-token.json\"\n",
    "\n",
    "# lead secrets\n",
    "load_dotenv(dotenv_path=secrets_path)"
   ]
  },
  {
   "attachments": {},
   "cell_type": "markdown",
   "metadata": {},
   "source": [
    "## Get prediciton data\n",
    "For acquiring prediction data, the script begins by establishing a connection with the SQLite database using the established db_path. Once the connection is created, an SQL query is read from an external file named 'prediction_table.sql'. This query is designed to retrieve the necessary prediction data. The script then executes this query against the SQLite database and fetches the results into a Pandas DataFrame, predictions, enabling further data manipulation and analysis. Following the successful extraction of prediction data, the script closes the connection to the SQLite database to maintain good programming practice. The predictions dataframe is then displayed to review the retrieved data."
   ]
  },
  {
   "cell_type": "code",
   "execution_count": 2,
   "metadata": {},
   "outputs": [
    {
     "data": {
      "text/html": [
       "<div>\n",
       "<style scoped>\n",
       "    .dataframe tbody tr th:only-of-type {\n",
       "        vertical-align: middle;\n",
       "    }\n",
       "\n",
       "    .dataframe tbody tr th {\n",
       "        vertical-align: top;\n",
       "    }\n",
       "\n",
       "    .dataframe thead th {\n",
       "        text-align: right;\n",
       "    }\n",
       "</style>\n",
       "<table border=\"1\" class=\"dataframe\">\n",
       "  <thead>\n",
       "    <tr style=\"text-align: right;\">\n",
       "      <th></th>\n",
       "      <th>game_id</th>\n",
       "      <th>home_team_result</th>\n",
       "      <th>team_home</th>\n",
       "      <th>position_home</th>\n",
       "      <th>team_head_to_head_odds_home</th>\n",
       "      <th>team_away</th>\n",
       "      <th>position_away</th>\n",
       "      <th>team_head_to_head_odds_away</th>\n",
       "      <th>home_team_win_prob</th>\n",
       "      <th>home_team_lose_prob</th>\n",
       "      <th>round_id</th>\n",
       "      <th>competition_year</th>\n",
       "      <th>round_name</th>\n",
       "    </tr>\n",
       "  </thead>\n",
       "  <tbody>\n",
       "    <tr>\n",
       "      <th>0</th>\n",
       "      <td>20231112810</td>\n",
       "      <td>Win</td>\n",
       "      <td>Brisbane Broncos</td>\n",
       "      <td>2</td>\n",
       "      <td>1.61</td>\n",
       "      <td>Melbourne Storm</td>\n",
       "      <td>3</td>\n",
       "      <td>2.32</td>\n",
       "      <td>0.537712</td>\n",
       "      <td>0.462288</td>\n",
       "      <td>28</td>\n",
       "      <td>2023</td>\n",
       "      <td>Finals Week 1</td>\n",
       "    </tr>\n",
       "    <tr>\n",
       "      <th>1</th>\n",
       "      <td>20231112820</td>\n",
       "      <td>Win</td>\n",
       "      <td>Penrith Panthers</td>\n",
       "      <td>1</td>\n",
       "      <td>1.11</td>\n",
       "      <td>New Zealand Warriors</td>\n",
       "      <td>4</td>\n",
       "      <td>6.70</td>\n",
       "      <td>0.920733</td>\n",
       "      <td>0.079267</td>\n",
       "      <td>28</td>\n",
       "      <td>2023</td>\n",
       "      <td>Finals Week 1</td>\n",
       "    </tr>\n",
       "    <tr>\n",
       "      <th>2</th>\n",
       "      <td>20231112830</td>\n",
       "      <td>Loss</td>\n",
       "      <td>Cronulla-Sutherland Sharks</td>\n",
       "      <td>6</td>\n",
       "      <td>1.97</td>\n",
       "      <td>Sydney Roosters</td>\n",
       "      <td>7</td>\n",
       "      <td>1.87</td>\n",
       "      <td>0.497588</td>\n",
       "      <td>0.502412</td>\n",
       "      <td>28</td>\n",
       "      <td>2023</td>\n",
       "      <td>Finals Week 1</td>\n",
       "    </tr>\n",
       "    <tr>\n",
       "      <th>3</th>\n",
       "      <td>20231112840</td>\n",
       "      <td>Win</td>\n",
       "      <td>Newcastle Knights</td>\n",
       "      <td>5</td>\n",
       "      <td>1.19</td>\n",
       "      <td>Canberra Raiders</td>\n",
       "      <td>8</td>\n",
       "      <td>4.75</td>\n",
       "      <td>0.852072</td>\n",
       "      <td>0.147928</td>\n",
       "      <td>28</td>\n",
       "      <td>2023</td>\n",
       "      <td>Finals Week 1</td>\n",
       "    </tr>\n",
       "  </tbody>\n",
       "</table>\n",
       "</div>"
      ],
      "text/plain": [
       "       game_id home_team_result                   team_home  position_home  \\\n",
       "0  20231112810              Win            Brisbane Broncos              2   \n",
       "1  20231112820              Win            Penrith Panthers              1   \n",
       "2  20231112830             Loss  Cronulla-Sutherland Sharks              6   \n",
       "3  20231112840              Win           Newcastle Knights              5   \n",
       "\n",
       "   team_head_to_head_odds_home             team_away  position_away  \\\n",
       "0                         1.61       Melbourne Storm              3   \n",
       "1                         1.11  New Zealand Warriors              4   \n",
       "2                         1.97       Sydney Roosters              7   \n",
       "3                         1.19      Canberra Raiders              8   \n",
       "\n",
       "   team_head_to_head_odds_away  home_team_win_prob  home_team_lose_prob  \\\n",
       "0                         2.32            0.537712             0.462288   \n",
       "1                         6.70            0.920733             0.079267   \n",
       "2                         1.87            0.497588             0.502412   \n",
       "3                         4.75            0.852072             0.147928   \n",
       "\n",
       "   round_id  competition_year     round_name  \n",
       "0        28              2023  Finals Week 1  \n",
       "1        28              2023  Finals Week 1  \n",
       "2        28              2023  Finals Week 1  \n",
       "3        28              2023  Finals Week 1  "
      ]
     },
     "execution_count": 2,
     "metadata": {},
     "output_type": "execute_result"
    }
   ],
   "source": [
    "# Connect to the SQLite database\n",
    "con = sqlite3.connect(str(db_path))\n",
    "\n",
    "# Read SQL query from external SQL file\n",
    "with open('sql/prediction_table.sql', 'r') as file:\n",
    "    query = file.read()\n",
    "\n",
    "# Execute the query and fetch the results into a data frame\n",
    "predictions = pd.read_sql_query(query, con)\n",
    "\n",
    "# Disconnect from the SQLite database\n",
    "con.close()\n",
    "\n",
    "predictions"
   ]
  },
  {
   "attachments": {},
   "cell_type": "markdown",
   "metadata": {},
   "source": [
    "## Get Tipper Picks\n",
    "For the crucial step of deriving the 'tipper picks', the function get_tipper_picks() from the previously imported 'sending_functions' module is used. This function operates on the predictions DataFrame, sifting through the data to identify the best market value based on the provided predictions. These selections, aptly named 'tipper picks', represent the optimal choices for those among the boys who are keen to place a punt. After the function has identified the 'tipper picks', these selections are assigned to the tipper_picks DataFrame for easy reference and further usage. This DataFrame is then displayed for review and verification."
   ]
  },
  {
   "cell_type": "code",
   "execution_count": 4,
   "metadata": {},
   "outputs": [
    {
     "data": {
      "text/html": [
       "<div>\n",
       "<style scoped>\n",
       "    .dataframe tbody tr th:only-of-type {\n",
       "        vertical-align: middle;\n",
       "    }\n",
       "\n",
       "    .dataframe tbody tr th {\n",
       "        vertical-align: top;\n",
       "    }\n",
       "\n",
       "    .dataframe thead th {\n",
       "        text-align: right;\n",
       "    }\n",
       "</style>\n",
       "<table border=\"1\" class=\"dataframe\">\n",
       "  <thead>\n",
       "    <tr style=\"text-align: right;\">\n",
       "      <th></th>\n",
       "      <th>team</th>\n",
       "      <th>price</th>\n",
       "      <th>price_min</th>\n",
       "    </tr>\n",
       "  </thead>\n",
       "  <tbody>\n",
       "  </tbody>\n",
       "</table>\n",
       "</div>"
      ],
      "text/plain": [
       "Empty DataFrame\n",
       "Columns: [team, price, price_min]\n",
       "Index: []"
      ]
     },
     "execution_count": 4,
     "metadata": {},
     "output_type": "execute_result"
    }
   ],
   "source": [
    "tipper_picks = sf.get_tipper_picks(predictions)\n",
    "tipper_picks"
   ]
  },
  {
   "attachments": {},
   "cell_type": "markdown",
   "metadata": {},
   "source": [
    "## Save predicitons\n",
    "In the 'Save Predictions' section, the predictions data, stored in the predictions DataFrame, is saved to Google Drive for record-keeping and future reference. This is accomplished using the upload_df_to_drive() function from the 'sending_functions' module. This function takes four arguments: the DataFrame to be uploaded (predictions), the path to the service account token (json_path), the Google Drive folder ID (which is securely accessed using os.getenv('FOLDER_ID') to fetch the environment variable), and the desired name of the file to be saved in the drive (\"predictions.csv\"). This process ensures that the valuable predictions data is not only used in the immediate context but also archived securely in Google Drive for potential future usage or analysis."
   ]
  },
  {
   "cell_type": "code",
   "execution_count": 5,
   "metadata": {},
   "outputs": [
    {
     "name": "stdout",
     "output_type": "stream",
     "text": [
      "File ID: 1QQ-pOPd1nsfvf1JcOW2UQZuY90eVvAm-\n"
     ]
    }
   ],
   "source": [
    "sf.upload_df_to_drive(\n",
    "    predictions, \n",
    "    json_path, \n",
    "    os.getenv('FOLDER_ID'), \n",
    "    \"predictions.csv\"\n",
    ")"
   ]
  },
  {
   "attachments": {},
   "cell_type": "markdown",
   "metadata": {},
   "source": [
    "## Reg R-ai-gan\n",
    "\n",
    "In the 'Reg Regan Email Generation' phase, the system employs the sophisticated language model, ChatGPT, to draft an email encapsulating the week's footy predictions and tipper picks. The generate_reg_regan_email() function, hailing from the 'sending_functions' module, facilitates this operation. It accepts four arguments: the predictions and tipper_picks DataFrames, which contain the necessary information for the email content; the OpenAI API key (os.getenv('OPENAI_KEY')), fetched securely from the environment variables, which grants the ability to access the language model; and the URL of the Google Drive folder (os.getenv('FOLDER_URL')), to which the predictions.csv file was uploaded. The function compiles this information into an engaging, intelligently crafted email, channeling the persona of Reg Regan. Once the email is generated, it's assigned to the reg_regan variable and printed out for review before being sent to the boys."
   ]
  },
  {
   "cell_type": "code",
   "execution_count": 6,
   "metadata": {},
   "outputs": [
    {
     "name": "stderr",
     "output_type": "stream",
     "text": [
      "/opt/homebrew/lib/python3.11/site-packages/langchain/llms/openai.py:173: UserWarning: You are trying to use a chat model. This way of initializing it is no longer supported. Instead, please use: `from langchain.chat_models import ChatOpenAI`\n",
      "  warnings.warn(\n",
      "/opt/homebrew/lib/python3.11/site-packages/langchain/llms/openai.py:751: UserWarning: You are trying to use a chat model. This way of initializing it is no longer supported. Instead, please use: `from langchain.chat_models import ChatOpenAI`\n",
      "  warnings.warn(\n"
     ]
    },
    {
     "name": "stdout",
     "output_type": "stream",
     "text": [
      "Subject: NRL Finals Week 1 Predictions and Tips from none other than Reg Reagan\n",
      "\n",
      "G'day,\n",
      "\n",
      "Reg Reagan here. I've just had Pat machines crank away their best predictions for this adrenaline-pumping NRL Finals Week 1, 2023 and I thought I'd share the wisdom. If this isn't a public service, I don't know what is.\n",
      "\n",
      "First up, Brisbane Broncos vs Melbourne Storm. The Broncos sitting nice and tidy at the number 2 spot are predicted to triumph. Sitting at a price of 1.61, it might be time to throw some coins at them. Melbourne's at 3rd spot had a fair season, but this ain't fairy tales, kiddos – it’s footy!\n",
      "\n",
      "Penrith Panthers have really been flexing those muscles sitting at the 1st position are predicted to tear apart the New Zealand Warriors, who are staggering at the 4th position. With the bookies offering a sweet 1.11 on the Panthers, don't hold your purses too tight! Warriors at 6.7 might look tempting, but remember, temptation ain't always healthy.\n",
      "\n",
      "Next on the platter, we have Cronulla-Sutherland Sharks vs Sydney Roosters. The Sharks, like the victims of their namesake, are anticipated to bite the dust against the Roosters. A pretty close call with the Sharks at a price of 1.97 and Roosters at 1.87, don't let your loyalties get in the way of your judgement.\n",
      "\n",
      "And lastly - and my personal favourite - Newcastle Knights (the only team worth barracking for) up against the Canberra Raiders. Predictions are that Knights, sitting comfy at the 5th spot will lance those Raiders right from the 8th position to the outback whence they came. A Knight’s victory is valued at a 1.19 price, bet on us or bugger off.\n",
      "\n",
      "Now for those good punters out there, get your betting slips and biros ready, it’s time for those golden tips: https://drive.google.com/drive/u/1/folders/1lT1SQH-kQPdnOf3ftomobuiv51jEj6t-\n",
      "\n",
      "And remember, I'd rather eat a Manly fan's half-eaten kebab than show any support for them.\n",
      "\n",
      "Let's bring back the biff this weekend, mates!\n",
      "\n",
      "Yours in league,\n",
      "\n",
      "Reg Reagan\n"
     ]
    }
   ],
   "source": [
    "reg_reagan = sf.generate_reg_regan_email(\n",
    "    predictions, \n",
    "    tipper_picks, \n",
    "    os.getenv('OPENAI_KEY'), \n",
    "    os.getenv('FOLDER_URL'),\n",
    "    1\n",
    ")\n",
    "\n",
    "print(reg_reagan)"
   ]
  },
  {
   "attachments": {},
   "cell_type": "markdown",
   "metadata": {},
   "source": [
    "## Send emails\n",
    "The final phase, 'Send Emails', sees the footy predictions being disseminated to the intended recipients. The send_emails() function from the 'sending_functions' module is invoked to accomplish this. It accepts several parameters: \"footy-tipper-email-list\", which is the list of recipients who will receive the email; a formatted string that serves as the email subject, dynamically including the round name from the predictions DataFrame; the reg_regan variable, which contains the email content; and the sender's email and password, fetched securely from the environment variables via os.getenv('MY_EMAIL') and os.getenv('EMAIL_PASSWORD') respectively. Finally, it takes the json_path, which might be required for email client authentication. This operation results in all the boys on the email list promptly receiving an email filled with the week's Footy Tipper predictions and tipper picks, all expressed in the unmistakable tone of Reg Regan."
   ]
  },
  {
   "cell_type": "code",
   "execution_count": 7,
   "metadata": {},
   "outputs": [],
   "source": [
    "sf.send_emails(\n",
    "    \"footy-tipper-email-list\", \n",
    "    f\"Footy Tipper Predictions for {predictions['round_name'].unique()[0]}\", \n",
    "    reg_reagan, \n",
    "    os.getenv('MY_EMAIL'), \n",
    "    os.getenv('EMAIL_PASSWORD'), \n",
    "    json_path\n",
    ")"
   ]
  }
 ],
 "metadata": {
  "kernelspec": {
   "display_name": "Python 3",
   "language": "python",
   "name": "python3"
  },
  "language_info": {
   "codemirror_mode": {
    "name": "ipython",
    "version": 3
   },
   "file_extension": ".py",
   "mimetype": "text/x-python",
   "name": "python",
   "nbconvert_exporter": "python",
   "pygments_lexer": "ipython3",
   "version": "3.11.4"
  },
  "orig_nbformat": 4
 },
 "nbformat": 4,
 "nbformat_minor": 2
}
