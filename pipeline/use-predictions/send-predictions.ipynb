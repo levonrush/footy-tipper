{
 "cells": [
  {
   "attachments": {},
   "cell_type": "markdown",
   "metadata": {},
   "source": [
    "# Send my predictions to the boys\n",
    "This system functions as a seamless pipeline that performs a series of intriguing operations, the primary of which is sourcing the current week's Footy Tipper predictions. With this information in hand, the pipeline proceeds to the next stage where it employs the advanced linguistic abilities of ChatGPT. Mimicking the persona of Reg Regan, the AI drafts an engaging and informed email containing the predictions. Upon completion, the email is dispatched to the boys, ensuring they are consistently kept in the loop with the latest Footy Tipper forecasts. The entire operation is a seamless fusion of sports analytics and artificial intelligence, creating an engaging and personalized user experience.\n",
    "\n",
    "## Set up environment\n",
    "The setup environment section of this project involves importing crucial libraries such as os, sys, sqlite3, pathlib, and pandas for various functionalities, along with dotenv for loading environment variables. Custom functions from the 'use-predictions' directory are also imported. Paths are established to the SQLite database, the secrets environment file, and a service account token file. Lastly, the script loads environment variables from the secrets file, enhancing security for sensitive elements."
   ]
  },
  {
   "cell_type": "code",
   "execution_count": 2,
   "metadata": {},
   "outputs": [
    {
     "data": {
      "text/plain": [
       "True"
      ]
     },
     "execution_count": 2,
     "metadata": {},
     "output_type": "execute_result"
    }
   ],
   "source": [
    "# for the predictions\n",
    "import os\n",
    "import sys\n",
    "import sqlite3\n",
    "import pathlib\n",
    "import pandas as pd\n",
    "from dotenv import load_dotenv\n",
    "\n",
    "# my funcitons\n",
    "sys.path.append(\"use-predictions/functions\") \n",
    "import sending_functions as sf\n",
    "\n",
    "# Get to the root directory\n",
    "project_root = pathlib.Path().absolute().parent.parent\n",
    "\n",
    "# Now construct the relative path to your SQLite database\n",
    "db_path = project_root / \"data\" / \"footy-tipper-db.sqlite\"\n",
    "secrets_path = project_root / \"secrets.env\"\n",
    "json_path = project_root / \"service-account-token.json\"\n",
    "\n",
    "# lead secrets\n",
    "load_dotenv(dotenv_path=secrets_path)"
   ]
  },
  {
   "attachments": {},
   "cell_type": "markdown",
   "metadata": {},
   "source": [
    "## Get prediciton data\n",
    "For acquiring prediction data, the script begins by establishing a connection with the SQLite database using the established db_path. Once the connection is created, an SQL query is read from an external file named 'prediction_table.sql'. This query is designed to retrieve the necessary prediction data. The script then executes this query against the SQLite database and fetches the results into a Pandas DataFrame, predictions, enabling further data manipulation and analysis. Following the successful extraction of prediction data, the script closes the connection to the SQLite database to maintain good programming practice. The predictions dataframe is then displayed to review the retrieved data."
   ]
  },
  {
   "cell_type": "code",
   "execution_count": 3,
   "metadata": {},
   "outputs": [
    {
     "data": {
      "text/html": [
       "<div>\n",
       "<style scoped>\n",
       "    .dataframe tbody tr th:only-of-type {\n",
       "        vertical-align: middle;\n",
       "    }\n",
       "\n",
       "    .dataframe tbody tr th {\n",
       "        vertical-align: top;\n",
       "    }\n",
       "\n",
       "    .dataframe thead th {\n",
       "        text-align: right;\n",
       "    }\n",
       "</style>\n",
       "<table border=\"1\" class=\"dataframe\">\n",
       "  <thead>\n",
       "    <tr style=\"text-align: right;\">\n",
       "      <th></th>\n",
       "      <th>game_id</th>\n",
       "      <th>home_team_result</th>\n",
       "      <th>team_home</th>\n",
       "      <th>position_home</th>\n",
       "      <th>team_head_to_head_odds_home</th>\n",
       "      <th>team_away</th>\n",
       "      <th>position_away</th>\n",
       "      <th>team_head_to_head_odds_away</th>\n",
       "      <th>home_team_win_prob</th>\n",
       "      <th>home_team_lose_prob</th>\n",
       "      <th>round_id</th>\n",
       "      <th>competition_year</th>\n",
       "      <th>round_name</th>\n",
       "    </tr>\n",
       "  </thead>\n",
       "  <tbody>\n",
       "    <tr>\n",
       "      <th>0</th>\n",
       "      <td>20231111910</td>\n",
       "      <td>Loss</td>\n",
       "      <td>Wests Tigers</td>\n",
       "      <td>17</td>\n",
       "      <td>9.50</td>\n",
       "      <td>Cronulla-Sutherland Sharks</td>\n",
       "      <td>3</td>\n",
       "      <td>1.06</td>\n",
       "      <td>0.264914</td>\n",
       "      <td>0.735086</td>\n",
       "      <td>19</td>\n",
       "      <td>2023</td>\n",
       "      <td>Round 19</td>\n",
       "    </tr>\n",
       "    <tr>\n",
       "      <th>1</th>\n",
       "      <td>20231111920</td>\n",
       "      <td>Loss</td>\n",
       "      <td>St. George Illawarra Dragons</td>\n",
       "      <td>16</td>\n",
       "      <td>4.00</td>\n",
       "      <td>Canberra Raiders</td>\n",
       "      <td>5</td>\n",
       "      <td>1.25</td>\n",
       "      <td>0.335308</td>\n",
       "      <td>0.664692</td>\n",
       "      <td>19</td>\n",
       "      <td>2023</td>\n",
       "      <td>Round 19</td>\n",
       "    </tr>\n",
       "    <tr>\n",
       "      <th>2</th>\n",
       "      <td>20231111930</td>\n",
       "      <td>Win</td>\n",
       "      <td>Parramatta Eels</td>\n",
       "      <td>6</td>\n",
       "      <td>2.31</td>\n",
       "      <td>New Zealand Warriors</td>\n",
       "      <td>8</td>\n",
       "      <td>1.62</td>\n",
       "      <td>0.526304</td>\n",
       "      <td>0.473696</td>\n",
       "      <td>19</td>\n",
       "      <td>2023</td>\n",
       "      <td>Round 19</td>\n",
       "    </tr>\n",
       "    <tr>\n",
       "      <th>3</th>\n",
       "      <td>20231111940</td>\n",
       "      <td>Win</td>\n",
       "      <td>South Sydney Rabbitohs</td>\n",
       "      <td>7</td>\n",
       "      <td>1.54</td>\n",
       "      <td>Canterbury-Bankstown Bulldogs</td>\n",
       "      <td>15</td>\n",
       "      <td>2.48</td>\n",
       "      <td>0.663941</td>\n",
       "      <td>0.336059</td>\n",
       "      <td>19</td>\n",
       "      <td>2023</td>\n",
       "      <td>Round 19</td>\n",
       "    </tr>\n",
       "    <tr>\n",
       "      <th>4</th>\n",
       "      <td>20231111950</td>\n",
       "      <td>Win</td>\n",
       "      <td>Gold Coast Titans</td>\n",
       "      <td>10</td>\n",
       "      <td>1.73</td>\n",
       "      <td>Dolphins</td>\n",
       "      <td>12</td>\n",
       "      <td>2.11</td>\n",
       "      <td>0.655170</td>\n",
       "      <td>0.344830</td>\n",
       "      <td>19</td>\n",
       "      <td>2023</td>\n",
       "      <td>Round 19</td>\n",
       "    </tr>\n",
       "  </tbody>\n",
       "</table>\n",
       "</div>"
      ],
      "text/plain": [
       "       game_id home_team_result                     team_home  position_home  \\\n",
       "0  20231111910             Loss                  Wests Tigers             17   \n",
       "1  20231111920             Loss  St. George Illawarra Dragons             16   \n",
       "2  20231111930              Win               Parramatta Eels              6   \n",
       "3  20231111940              Win        South Sydney Rabbitohs              7   \n",
       "4  20231111950              Win             Gold Coast Titans             10   \n",
       "\n",
       "   team_head_to_head_odds_home                      team_away  position_away  \\\n",
       "0                         9.50     Cronulla-Sutherland Sharks              3   \n",
       "1                         4.00               Canberra Raiders              5   \n",
       "2                         2.31           New Zealand Warriors              8   \n",
       "3                         1.54  Canterbury-Bankstown Bulldogs             15   \n",
       "4                         1.73                       Dolphins             12   \n",
       "\n",
       "   team_head_to_head_odds_away  home_team_win_prob  home_team_lose_prob  \\\n",
       "0                         1.06            0.264914             0.735086   \n",
       "1                         1.25            0.335308             0.664692   \n",
       "2                         1.62            0.526304             0.473696   \n",
       "3                         2.48            0.663941             0.336059   \n",
       "4                         2.11            0.655170             0.344830   \n",
       "\n",
       "   round_id  competition_year round_name  \n",
       "0        19              2023   Round 19  \n",
       "1        19              2023   Round 19  \n",
       "2        19              2023   Round 19  \n",
       "3        19              2023   Round 19  \n",
       "4        19              2023   Round 19  "
      ]
     },
     "execution_count": 3,
     "metadata": {},
     "output_type": "execute_result"
    }
   ],
   "source": [
    "# Connect to the SQLite database\n",
    "con = sqlite3.connect(str(db_path))\n",
    "\n",
    "# Read SQL query from external SQL file\n",
    "with open('sql/prediction_table.sql', 'r') as file:\n",
    "    query = file.read()\n",
    "\n",
    "# Execute the query and fetch the results into a data frame\n",
    "predictions = pd.read_sql_query(query, con)\n",
    "\n",
    "# Disconnect from the SQLite database\n",
    "con.close()\n",
    "\n",
    "predictions"
   ]
  },
  {
   "attachments": {},
   "cell_type": "markdown",
   "metadata": {},
   "source": [
    "## Get Tipper Picks\n",
    "For the crucial step of deriving the 'tipper picks', the function get_tipper_picks() from the previously imported 'sending_functions' module is used. This function operates on the predictions DataFrame, sifting through the data to identify the best market value based on the provided predictions. These selections, aptly named 'tipper picks', represent the optimal choices for those among the boys who are keen to place a punt. After the function has identified the 'tipper picks', these selections are assigned to the tipper_picks DataFrame for easy reference and further usage. This DataFrame is then displayed for review and verification."
   ]
  },
  {
   "cell_type": "code",
   "execution_count": 4,
   "metadata": {},
   "outputs": [
    {
     "data": {
      "text/html": [
       "<div>\n",
       "<style scoped>\n",
       "    .dataframe tbody tr th:only-of-type {\n",
       "        vertical-align: middle;\n",
       "    }\n",
       "\n",
       "    .dataframe tbody tr th {\n",
       "        vertical-align: top;\n",
       "    }\n",
       "\n",
       "    .dataframe thead th {\n",
       "        text-align: right;\n",
       "    }\n",
       "</style>\n",
       "<table border=\"1\" class=\"dataframe\">\n",
       "  <thead>\n",
       "    <tr style=\"text-align: right;\">\n",
       "      <th></th>\n",
       "      <th>team</th>\n",
       "      <th>price</th>\n",
       "      <th>price_min</th>\n",
       "    </tr>\n",
       "  </thead>\n",
       "  <tbody>\n",
       "    <tr>\n",
       "      <th>2</th>\n",
       "      <td>Parramatta Eels</td>\n",
       "      <td>2.31</td>\n",
       "      <td>1.900043</td>\n",
       "    </tr>\n",
       "  </tbody>\n",
       "</table>\n",
       "</div>"
      ],
      "text/plain": [
       "              team  price  price_min\n",
       "2  Parramatta Eels   2.31   1.900043"
      ]
     },
     "execution_count": 4,
     "metadata": {},
     "output_type": "execute_result"
    }
   ],
   "source": [
    "tipper_picks = sf.get_tipper_picks(predictions)\n",
    "tipper_picks"
   ]
  },
  {
   "attachments": {},
   "cell_type": "markdown",
   "metadata": {},
   "source": [
    "## Save predicitons\n",
    "In the 'Save Predictions' section, the predictions data, stored in the predictions DataFrame, is saved to Google Drive for record-keeping and future reference. This is accomplished using the upload_df_to_drive() function from the 'sending_functions' module. This function takes four arguments: the DataFrame to be uploaded (predictions), the path to the service account token (json_path), the Google Drive folder ID (which is securely accessed using os.getenv('FOLDER_ID') to fetch the environment variable), and the desired name of the file to be saved in the drive (\"predictions.csv\"). This process ensures that the valuable predictions data is not only used in the immediate context but also archived securely in Google Drive for potential future usage or analysis."
   ]
  },
  {
   "cell_type": "code",
   "execution_count": 5,
   "metadata": {},
   "outputs": [
    {
     "name": "stdout",
     "output_type": "stream",
     "text": [
      "File ID: 1RSNHHh_6Um7ULUzoOuPyTTGLM5ZT8Y81\n"
     ]
    }
   ],
   "source": [
    "sf.upload_df_to_drive(\n",
    "    predictions, \n",
    "    json_path, \n",
    "    os.getenv('FOLDER_ID'), \n",
    "    \"predictions.csv\"\n",
    ")"
   ]
  },
  {
   "attachments": {},
   "cell_type": "markdown",
   "metadata": {},
   "source": [
    "## Reg R-ai-gan\n",
    "\n",
    "In the 'Reg Regan Email Generation' phase, the system employs the sophisticated language model, ChatGPT, to draft an email encapsulating the week's footy predictions and tipper picks. The generate_reg_regan_email() function, hailing from the 'sending_functions' module, facilitates this operation. It accepts four arguments: the predictions and tipper_picks DataFrames, which contain the necessary information for the email content; the OpenAI API key (os.getenv('OPENAI_KEY')), fetched securely from the environment variables, which grants the ability to access the language model; and the URL of the Google Drive folder (os.getenv('FOLDER_URL')), to which the predictions.csv file was uploaded. The function compiles this information into an engaging, intelligently crafted email, channeling the persona of Reg Regan. Once the email is generated, it's assigned to the reg_regan variable and printed out for review before being sent to the boys."
   ]
  },
  {
   "cell_type": "code",
   "execution_count": 8,
   "metadata": {},
   "outputs": [
    {
     "name": "stdout",
     "output_type": "stream",
     "text": [
      "Subject: Footy Tips and Biff - Round 19 Predictions!\n",
      "\n",
      "G'day mates,\n",
      "\n",
      "Hope this email finds you all in good health and high spirits. I've got some cracking insights and savvy predictions for NRL Round 19 from our trusty machine learning pipeline - the Footy Tipper. And let me tell you, this AI knows its footy!\n",
      "\n",
      "Let's jump right into it:\n",
      "\n",
      "1. Wests Tigers vs. Cronulla-Sutherland Sharks:\n",
      "   - Footy Tipper predicts Wests Tigers will have a tough time with a predicted loss against the mighty Sharks. Sorry Tigers fans! But hey, if you're feeling adventurous, you can score crazy odds of 9.5 on a Tigers win!\n",
      "\n",
      "2. St. George Illawarra Dragons vs. Canberra Raiders:\n",
      "   - Our AI predicts the Dragons to face another defeat against a formidable team, the Raiders. Seems like the Dragons are having a rough time, eh? You can always hope for an upset, and if the dragons breath some fire, you'll get odds of 4.0 for a Dragons victory!\n",
      "\n",
      "3. Parramatta Eels vs. New Zealand Warriors:\n",
      "   - Ah, here's a glimmer of hope for our punters! The Footy Tipper foresees the Parramatta Eels clinching a victory against the Warriors. And guess what? The bookies are generously offering odds of 2.31 for Eels supporters. Good value, I say!\n",
      "\n",
      "4. South Sydney Rabbitohs vs. Canterbury-Bankstown Bulldogs:\n",
      "   - Leave it to the Bunny boys! The Footy Tipper believes the Rabbitohs will hop their way to victory against the Bulldogs. With odds of 1.54, it seems like the bunnies have a good chance of stretching their winning streak.\n",
      "\n",
      "5. Gold Coast Titans vs. Dolphins:\n",
      "   - The Footy Tipper fancies the Titans to triumph over the debutant Dolphins. Titans fans, you can wager on the home team with attractive odds of 1.73. Go for gold, lads!\n",
      "\n",
      "Now, if you're interested in taking a closer look at the Footy Tipper's predictions, you can find all the details in the tips folder right here: [Tips Folder](https://drive.google.com/drive/folders/1lT1SQH-kQPdnOf3ftomobuiv51jEj6t-?usp=sharing)\n",
      "\n",
      "But hang on, that's not all there is! Our smart little algorithm has spotted a real value tip for the round. Parramatta Eels are offering astronomical odds of 2.31, so if you're keen on a bit of a punt, this could be your golden ticket!\n",
      "\n",
      "Now, fellas, let's not forget to bring back the good ol' biff! It's one of the beauties of the game that we love. So, gather round, raise your glasses, and let's toast to the glory days of rugby league in all its biff-filled glory!\n",
      "\n",
      "That's all for now, mates. Remember, in footy and in life, taking risks can sometimes lead to great rewards.\n",
      "\n",
      "Yours truly,\n",
      "\n",
      "Reg Regan\n"
     ]
    }
   ],
   "source": [
    "reg_regan = sf.generate_reg_regan_email(\n",
    "    predictions, \n",
    "    tipper_picks, \n",
    "    os.getenv('OPENAI_KEY'), \n",
    "    os.getenv('FOLDER_URL')\n",
    ")\n",
    "\n",
    "print(reg_regan)"
   ]
  },
  {
   "attachments": {},
   "cell_type": "markdown",
   "metadata": {},
   "source": [
    "## Send emails\n",
    "The final phase, 'Send Emails', sees the footy predictions being disseminated to the intended recipients. The send_emails() function from the 'sending_functions' module is invoked to accomplish this. It accepts several parameters: \"footy-tipper-email-list\", which is the list of recipients who will receive the email; a formatted string that serves as the email subject, dynamically including the round name from the predictions DataFrame; the reg_regan variable, which contains the email content; and the sender's email and password, fetched securely from the environment variables via os.getenv('MY_EMAIL') and os.getenv('EMAIL_PASSWORD') respectively. Finally, it takes the json_path, which might be required for email client authentication. This operation results in all the boys on the email list promptly receiving an email filled with the week's Footy Tipper predictions and tipper picks, all expressed in the unmistakable tone of Reg Regan."
   ]
  },
  {
   "cell_type": "code",
   "execution_count": 9,
   "metadata": {},
   "outputs": [],
   "source": [
    "sf.send_emails(\n",
    "    \"footy-tipper-email-list\", \n",
    "    f\"Footy Tipper Predictions for {predictions['round_name'].unique()[0]}\", \n",
    "    reg_regan, \n",
    "    os.getenv('MY_EMAIL'), \n",
    "    os.getenv('EMAIL_PASSWORD'), \n",
    "    json_path\n",
    ")"
   ]
  }
 ],
 "metadata": {
  "kernelspec": {
   "display_name": "Python 3",
   "language": "python",
   "name": "python3"
  },
  "language_info": {
   "codemirror_mode": {
    "name": "ipython",
    "version": 3
   },
   "file_extension": ".py",
   "mimetype": "text/x-python",
   "name": "python",
   "nbconvert_exporter": "python",
   "pygments_lexer": "ipython3",
   "version": "3.9.9"
  },
  "orig_nbformat": 4
 },
 "nbformat": 4,
 "nbformat_minor": 2
}
