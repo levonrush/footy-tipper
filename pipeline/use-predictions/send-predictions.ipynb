{
 "cells": [
  {
   "attachments": {},
   "cell_type": "markdown",
   "metadata": {},
   "source": [
    "# Send my predictions to the boys\n",
    "This system functions as a seamless pipeline that performs a series of intriguing operations, the primary of which is sourcing the current week's Footy Tipper predictions. With this information in hand, the pipeline proceeds to the next stage where it employs the advanced linguistic abilities of ChatGPT. Mimicking the persona of Reg Regan, the AI drafts an engaging and informed email containing the predictions. Upon completion, the email is dispatched to the boys, ensuring they are consistently kept in the loop with the latest Footy Tipper forecasts. The entire operation is a seamless fusion of sports analytics and artificial intelligence, creating an engaging and personalized user experience.\n",
    "\n",
    "## Set up environment\n",
    "The setup environment section of this project involves importing crucial libraries such as os, sys, sqlite3, pathlib, and pandas for various functionalities, along with dotenv for loading environment variables. Custom functions from the 'use-predictions' directory are also imported. Paths are established to the SQLite database, the secrets environment file, and a service account token file. Lastly, the script loads environment variables from the secrets file, enhancing security for sensitive elements."
   ]
  },
  {
   "cell_type": "code",
   "execution_count": 1,
   "metadata": {},
   "outputs": [
    {
     "data": {
      "text/plain": [
       "True"
      ]
     },
     "execution_count": 1,
     "metadata": {},
     "output_type": "execute_result"
    }
   ],
   "source": [
    "# for the predictions\n",
    "import os\n",
    "import sys\n",
    "import sqlite3\n",
    "import pathlib\n",
    "import pandas as pd\n",
    "from dotenv import load_dotenv\n",
    "\n",
    "# my funcitons\n",
    "sys.path.append(\"functions\") \n",
    "import sending_functions as sf\n",
    "\n",
    "# Get to the root directory\n",
    "project_root = pathlib.Path().absolute().parent.parent\n",
    "\n",
    "# Now construct the relative path to your SQLite database\n",
    "db_path = project_root / \"data\" / \"footy-tipper-db.sqlite\"\n",
    "secrets_path = project_root / \"secrets.env\"\n",
    "json_path = project_root / \"service-account-token.json\"\n",
    "\n",
    "# lead secrets\n",
    "load_dotenv(dotenv_path=secrets_path)"
   ]
  },
  {
   "attachments": {},
   "cell_type": "markdown",
   "metadata": {},
   "source": [
    "## Get prediciton data\n",
    "For acquiring prediction data, the script begins by establishing a connection with the SQLite database using the established db_path. Once the connection is created, an SQL query is read from an external file named 'prediction_table.sql'. This query is designed to retrieve the necessary prediction data. The script then executes this query against the SQLite database and fetches the results into a Pandas DataFrame, predictions, enabling further data manipulation and analysis. Following the successful extraction of prediction data, the script closes the connection to the SQLite database to maintain good programming practice. The predictions dataframe is then displayed to review the retrieved data."
   ]
  },
  {
   "cell_type": "code",
   "execution_count": 2,
   "metadata": {},
   "outputs": [
    {
     "data": {
      "text/html": [
       "<div>\n",
       "<style scoped>\n",
       "    .dataframe tbody tr th:only-of-type {\n",
       "        vertical-align: middle;\n",
       "    }\n",
       "\n",
       "    .dataframe tbody tr th {\n",
       "        vertical-align: top;\n",
       "    }\n",
       "\n",
       "    .dataframe thead th {\n",
       "        text-align: right;\n",
       "    }\n",
       "</style>\n",
       "<table border=\"1\" class=\"dataframe\">\n",
       "  <thead>\n",
       "    <tr style=\"text-align: right;\">\n",
       "      <th></th>\n",
       "      <th>game_id</th>\n",
       "      <th>home_team_result</th>\n",
       "      <th>team_home</th>\n",
       "      <th>position_home</th>\n",
       "      <th>team_head_to_head_odds_home</th>\n",
       "      <th>team_away</th>\n",
       "      <th>position_away</th>\n",
       "      <th>team_head_to_head_odds_away</th>\n",
       "      <th>home_team_win_prob</th>\n",
       "      <th>home_team_lose_prob</th>\n",
       "      <th>round_id</th>\n",
       "      <th>competition_year</th>\n",
       "      <th>round_name</th>\n",
       "    </tr>\n",
       "  </thead>\n",
       "  <tbody>\n",
       "    <tr>\n",
       "      <th>0</th>\n",
       "      <td>20231112610</td>\n",
       "      <td>Win</td>\n",
       "      <td>Penrith Panthers</td>\n",
       "      <td>1</td>\n",
       "      <td>1.11</td>\n",
       "      <td>Parramatta Eels</td>\n",
       "      <td>11</td>\n",
       "      <td>7.00</td>\n",
       "      <td>0.670635</td>\n",
       "      <td>0.329365</td>\n",
       "      <td>26</td>\n",
       "      <td>2023</td>\n",
       "      <td>Round 26</td>\n",
       "    </tr>\n",
       "    <tr>\n",
       "      <th>1</th>\n",
       "      <td>20231112620</td>\n",
       "      <td>Win</td>\n",
       "      <td>New Zealand Warriors</td>\n",
       "      <td>3</td>\n",
       "      <td>1.13</td>\n",
       "      <td>St. George Illawarra Dragons</td>\n",
       "      <td>16</td>\n",
       "      <td>6.05</td>\n",
       "      <td>0.681636</td>\n",
       "      <td>0.318364</td>\n",
       "      <td>26</td>\n",
       "      <td>2023</td>\n",
       "      <td>Round 26</td>\n",
       "    </tr>\n",
       "    <tr>\n",
       "      <th>2</th>\n",
       "      <td>20231112630</td>\n",
       "      <td>Loss</td>\n",
       "      <td>Dolphins</td>\n",
       "      <td>14</td>\n",
       "      <td>3.82</td>\n",
       "      <td>North Queensland Cowboys</td>\n",
       "      <td>9</td>\n",
       "      <td>1.27</td>\n",
       "      <td>0.375838</td>\n",
       "      <td>0.624162</td>\n",
       "      <td>26</td>\n",
       "      <td>2023</td>\n",
       "      <td>Round 26</td>\n",
       "    </tr>\n",
       "    <tr>\n",
       "      <th>3</th>\n",
       "      <td>20231112640</td>\n",
       "      <td>Win</td>\n",
       "      <td>Melbourne Storm</td>\n",
       "      <td>4</td>\n",
       "      <td>1.13</td>\n",
       "      <td>Gold Coast Titans</td>\n",
       "      <td>13</td>\n",
       "      <td>6.05</td>\n",
       "      <td>0.666691</td>\n",
       "      <td>0.333309</td>\n",
       "      <td>26</td>\n",
       "      <td>2023</td>\n",
       "      <td>Round 26</td>\n",
       "    </tr>\n",
       "    <tr>\n",
       "      <th>4</th>\n",
       "      <td>20231112650</td>\n",
       "      <td>Win</td>\n",
       "      <td>Sydney Roosters</td>\n",
       "      <td>10</td>\n",
       "      <td>1.17</td>\n",
       "      <td>Wests Tigers</td>\n",
       "      <td>17</td>\n",
       "      <td>5.10</td>\n",
       "      <td>0.670775</td>\n",
       "      <td>0.329225</td>\n",
       "      <td>26</td>\n",
       "      <td>2023</td>\n",
       "      <td>Round 26</td>\n",
       "    </tr>\n",
       "    <tr>\n",
       "      <th>5</th>\n",
       "      <td>20231112660</td>\n",
       "      <td>Loss</td>\n",
       "      <td>Canberra Raiders</td>\n",
       "      <td>6</td>\n",
       "      <td>2.94</td>\n",
       "      <td>Brisbane Broncos</td>\n",
       "      <td>2</td>\n",
       "      <td>1.41</td>\n",
       "      <td>0.332699</td>\n",
       "      <td>0.667301</td>\n",
       "      <td>26</td>\n",
       "      <td>2023</td>\n",
       "      <td>Round 26</td>\n",
       "    </tr>\n",
       "    <tr>\n",
       "      <th>6</th>\n",
       "      <td>20231112670</td>\n",
       "      <td>Loss</td>\n",
       "      <td>Canterbury-Bankstown Bulldogs</td>\n",
       "      <td>15</td>\n",
       "      <td>2.86</td>\n",
       "      <td>Manly-Warringah Sea Eagles</td>\n",
       "      <td>12</td>\n",
       "      <td>1.43</td>\n",
       "      <td>0.340783</td>\n",
       "      <td>0.659217</td>\n",
       "      <td>26</td>\n",
       "      <td>2023</td>\n",
       "      <td>Round 26</td>\n",
       "    </tr>\n",
       "    <tr>\n",
       "      <th>7</th>\n",
       "      <td>20231112680</td>\n",
       "      <td>Win</td>\n",
       "      <td>Newcastle Knights</td>\n",
       "      <td>7</td>\n",
       "      <td>1.68</td>\n",
       "      <td>Cronulla-Sutherland Sharks</td>\n",
       "      <td>5</td>\n",
       "      <td>2.19</td>\n",
       "      <td>0.579648</td>\n",
       "      <td>0.420352</td>\n",
       "      <td>26</td>\n",
       "      <td>2023</td>\n",
       "      <td>Round 26</td>\n",
       "    </tr>\n",
       "  </tbody>\n",
       "</table>\n",
       "</div>"
      ],
      "text/plain": [
       "       game_id home_team_result                      team_home  position_home  \\\n",
       "0  20231112610              Win               Penrith Panthers              1   \n",
       "1  20231112620              Win           New Zealand Warriors              3   \n",
       "2  20231112630             Loss                       Dolphins             14   \n",
       "3  20231112640              Win                Melbourne Storm              4   \n",
       "4  20231112650              Win                Sydney Roosters             10   \n",
       "5  20231112660             Loss               Canberra Raiders              6   \n",
       "6  20231112670             Loss  Canterbury-Bankstown Bulldogs             15   \n",
       "7  20231112680              Win              Newcastle Knights              7   \n",
       "\n",
       "   team_head_to_head_odds_home                     team_away  position_away  \\\n",
       "0                         1.11               Parramatta Eels             11   \n",
       "1                         1.13  St. George Illawarra Dragons             16   \n",
       "2                         3.82      North Queensland Cowboys              9   \n",
       "3                         1.13             Gold Coast Titans             13   \n",
       "4                         1.17                  Wests Tigers             17   \n",
       "5                         2.94              Brisbane Broncos              2   \n",
       "6                         2.86    Manly-Warringah Sea Eagles             12   \n",
       "7                         1.68    Cronulla-Sutherland Sharks              5   \n",
       "\n",
       "   team_head_to_head_odds_away  home_team_win_prob  home_team_lose_prob  \\\n",
       "0                         7.00            0.670635             0.329365   \n",
       "1                         6.05            0.681636             0.318364   \n",
       "2                         1.27            0.375838             0.624162   \n",
       "3                         6.05            0.666691             0.333309   \n",
       "4                         5.10            0.670775             0.329225   \n",
       "5                         1.41            0.332699             0.667301   \n",
       "6                         1.43            0.340783             0.659217   \n",
       "7                         2.19            0.579648             0.420352   \n",
       "\n",
       "   round_id  competition_year round_name  \n",
       "0        26              2023   Round 26  \n",
       "1        26              2023   Round 26  \n",
       "2        26              2023   Round 26  \n",
       "3        26              2023   Round 26  \n",
       "4        26              2023   Round 26  \n",
       "5        26              2023   Round 26  \n",
       "6        26              2023   Round 26  \n",
       "7        26              2023   Round 26  "
      ]
     },
     "execution_count": 2,
     "metadata": {},
     "output_type": "execute_result"
    }
   ],
   "source": [
    "# Connect to the SQLite database\n",
    "con = sqlite3.connect(str(db_path))\n",
    "\n",
    "# Read SQL query from external SQL file\n",
    "with open('sql/prediction_table.sql', 'r') as file:\n",
    "    query = file.read()\n",
    "\n",
    "# Execute the query and fetch the results into a data frame\n",
    "predictions = pd.read_sql_query(query, con)\n",
    "\n",
    "# Disconnect from the SQLite database\n",
    "con.close()\n",
    "\n",
    "predictions"
   ]
  },
  {
   "attachments": {},
   "cell_type": "markdown",
   "metadata": {},
   "source": [
    "## Get Tipper Picks\n",
    "For the crucial step of deriving the 'tipper picks', the function get_tipper_picks() from the previously imported 'sending_functions' module is used. This function operates on the predictions DataFrame, sifting through the data to identify the best market value based on the provided predictions. These selections, aptly named 'tipper picks', represent the optimal choices for those among the boys who are keen to place a punt. After the function has identified the 'tipper picks', these selections are assigned to the tipper_picks DataFrame for easy reference and further usage. This DataFrame is then displayed for review and verification."
   ]
  },
  {
   "cell_type": "code",
   "execution_count": 3,
   "metadata": {},
   "outputs": [
    {
     "data": {
      "text/html": [
       "<div>\n",
       "<style scoped>\n",
       "    .dataframe tbody tr th:only-of-type {\n",
       "        vertical-align: middle;\n",
       "    }\n",
       "\n",
       "    .dataframe tbody tr th {\n",
       "        vertical-align: top;\n",
       "    }\n",
       "\n",
       "    .dataframe thead th {\n",
       "        text-align: right;\n",
       "    }\n",
       "</style>\n",
       "<table border=\"1\" class=\"dataframe\">\n",
       "  <thead>\n",
       "    <tr style=\"text-align: right;\">\n",
       "      <th></th>\n",
       "      <th>team</th>\n",
       "      <th>price</th>\n",
       "      <th>price_min</th>\n",
       "    </tr>\n",
       "  </thead>\n",
       "  <tbody>\n",
       "  </tbody>\n",
       "</table>\n",
       "</div>"
      ],
      "text/plain": [
       "Empty DataFrame\n",
       "Columns: [team, price, price_min]\n",
       "Index: []"
      ]
     },
     "execution_count": 3,
     "metadata": {},
     "output_type": "execute_result"
    }
   ],
   "source": [
    "tipper_picks = sf.get_tipper_picks(predictions)\n",
    "tipper_picks"
   ]
  },
  {
   "attachments": {},
   "cell_type": "markdown",
   "metadata": {},
   "source": [
    "## Save predicitons\n",
    "In the 'Save Predictions' section, the predictions data, stored in the predictions DataFrame, is saved to Google Drive for record-keeping and future reference. This is accomplished using the upload_df_to_drive() function from the 'sending_functions' module. This function takes four arguments: the DataFrame to be uploaded (predictions), the path to the service account token (json_path), the Google Drive folder ID (which is securely accessed using os.getenv('FOLDER_ID') to fetch the environment variable), and the desired name of the file to be saved in the drive (\"predictions.csv\"). This process ensures that the valuable predictions data is not only used in the immediate context but also archived securely in Google Drive for potential future usage or analysis."
   ]
  },
  {
   "cell_type": "code",
   "execution_count": 4,
   "metadata": {},
   "outputs": [
    {
     "name": "stdout",
     "output_type": "stream",
     "text": [
      "File ID: 1Fv-ULwVp6R6GmV2NpZFsDvNvN0pMhR1g\n"
     ]
    }
   ],
   "source": [
    "sf.upload_df_to_drive(\n",
    "    predictions, \n",
    "    json_path, \n",
    "    os.getenv('FOLDER_ID'), \n",
    "    \"predictions.csv\"\n",
    ")"
   ]
  },
  {
   "attachments": {},
   "cell_type": "markdown",
   "metadata": {},
   "source": [
    "## Reg R-ai-gan\n",
    "\n",
    "In the 'Reg Regan Email Generation' phase, the system employs the sophisticated language model, ChatGPT, to draft an email encapsulating the week's footy predictions and tipper picks. The generate_reg_regan_email() function, hailing from the 'sending_functions' module, facilitates this operation. It accepts four arguments: the predictions and tipper_picks DataFrames, which contain the necessary information for the email content; the OpenAI API key (os.getenv('OPENAI_KEY')), fetched securely from the environment variables, which grants the ability to access the language model; and the URL of the Google Drive folder (os.getenv('FOLDER_URL')), to which the predictions.csv file was uploaded. The function compiles this information into an engaging, intelligently crafted email, channeling the persona of Reg Regan. Once the email is generated, it's assigned to the reg_regan variable and printed out for review before being sent to the boys."
   ]
  },
  {
   "cell_type": "code",
   "execution_count": 5,
   "metadata": {},
   "outputs": [
    {
     "name": "stdout",
     "output_type": "stream",
     "text": [
      "Subject: NRL Round 26 Predictions - Footy Tipper Insights and The Weekly Punt\n",
      "\n",
      "G'day, Rugby Lovers,\n",
      "\n",
      "Bloody hell, we've made it to Round 26 of the 2023 NRL season already, and Footy Tipper's got some intriguing predictions served up hotter than a meat pie at half-time. Let’s dive right in, shall we?\n",
      "\n",
      "Starting off, we've got the Penrith Panthers, perched on the top spot, all set to rip apart the Parramatta Eels at a whopping 1.11 head to head price. I reckon the Eels must have lost their way up Parramatta River - they're stuck in 11th place with a poor 7.0 price.\n",
      "\n",
      "Down at Kiwi land, the New Zealand Warriors (1.13) look set to send the St. George Illawarra Dragons (16th spot, 6.05) home tail between legs. The Dragons clearly forgot that they're meant to breathe fire, not choke on smokescreens. \n",
      "\n",
      "Meanwhile, the Dolphins get yet another reality check as the North Queensland Cowboys (1.27) look to wrangle a win out of them. Sitting at 14th spot, maybe the Dolphins would do better swimming than playing footy, eh?\n",
      "\n",
      "The Melbourne Storm (1.13) are brewing up a storm against the Gold Coast Titans (6.05) who seem to be lost in space at the 13th spot. Maybe their GPS failed or something?\n",
      "\n",
      "Sydney Roosters crowing at a 1.17 price against the Wests Tigers stuck at the bottom of the barrel in 17th place, they really should consider switching to a jungle environment. \n",
      "\n",
      "In another universe, the Canberra Raiders (2.94) are set to face a loss against the Brisbane Broncos (1.41) who are prancing around in second place. Maybe the Raiders should focus on raiding some talent next season? \n",
      "\n",
      "Then, there's the Canterbury-Bankstown Bulldogs (2.86) who seem to be stuck fetching their own tails against the Manly-Warringah Sea Eagles (12th spot, 1.43) - and we all know my fondness for Manly. Reminds me of a bunch of spoilt rich kids lost at a picnic. \n",
      "\n",
      "And saving the best for last - our Newcastle Knights (1.68) are ready to joust the Cronulla-Sutherland Sharks (5th spot, 2.19) right out of the water. Ah, nothing like the smell of a good Knights victory!\n",
      "\n",
      "For those who fancy a punt, check out the value tips here: https://drive.google.com/drive/u/1/folders/1lT1SQH-kQPdnOf3ftomobuiv51jEj6t-. If it's blank, footy tipping gods reckon it's not worth the punt. \n",
      "\n",
      "Remember lads, bring back the biff! And if anyone dares to back Manly, I might just personally bring the biff back myself.\n",
      "\n",
      "Till next round, \n",
      "\n",
      "Reg Reagan\n",
      "\n"
     ]
    }
   ],
   "source": [
    "reg_reagan = sf.generate_reg_regan_email(\n",
    "    predictions, \n",
    "    tipper_picks, \n",
    "    os.getenv('OPENAI_KEY'), \n",
    "    os.getenv('FOLDER_URL'),\n",
    "    0.9\n",
    ")\n",
    "\n",
    "print(reg_reagan)"
   ]
  },
  {
   "attachments": {},
   "cell_type": "markdown",
   "metadata": {},
   "source": [
    "## Send emails\n",
    "The final phase, 'Send Emails', sees the footy predictions being disseminated to the intended recipients. The send_emails() function from the 'sending_functions' module is invoked to accomplish this. It accepts several parameters: \"footy-tipper-email-list\", which is the list of recipients who will receive the email; a formatted string that serves as the email subject, dynamically including the round name from the predictions DataFrame; the reg_regan variable, which contains the email content; and the sender's email and password, fetched securely from the environment variables via os.getenv('MY_EMAIL') and os.getenv('EMAIL_PASSWORD') respectively. Finally, it takes the json_path, which might be required for email client authentication. This operation results in all the boys on the email list promptly receiving an email filled with the week's Footy Tipper predictions and tipper picks, all expressed in the unmistakable tone of Reg Regan."
   ]
  },
  {
   "cell_type": "code",
   "execution_count": 6,
   "metadata": {},
   "outputs": [],
   "source": [
    "sf.send_emails(\n",
    "    \"footy-tipper-email-list\", \n",
    "    f\"Footy Tipper Predictions for {predictions['round_name'].unique()[0]}\", \n",
    "    reg_reagan, \n",
    "    os.getenv('MY_EMAIL'), \n",
    "    os.getenv('EMAIL_PASSWORD'), \n",
    "    json_path\n",
    ")"
   ]
  }
 ],
 "metadata": {
  "kernelspec": {
   "display_name": "Python 3",
   "language": "python",
   "name": "python3"
  },
  "language_info": {
   "codemirror_mode": {
    "name": "ipython",
    "version": 3
   },
   "file_extension": ".py",
   "mimetype": "text/x-python",
   "name": "python",
   "nbconvert_exporter": "python",
   "pygments_lexer": "ipython3",
   "version": "3.11.4"
  },
  "orig_nbformat": 4
 },
 "nbformat": 4,
 "nbformat_minor": 2
}
