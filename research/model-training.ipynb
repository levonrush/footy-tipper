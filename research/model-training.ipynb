{
 "cells": [
  {
   "attachments": {},
   "cell_type": "markdown",
   "metadata": {},
   "source": [
    "# Model Training\n",
    "Welcome to the 'Model Training and Prediction' notebook, a crucial facet of our project's data science pipeline. In this notebook, we offer a meticulous examination of our rigorous model development process. The pipeline starts by accepting training data, followed by fitting three distinct types of models to it: Random Forest, Gradient Boosted Tree, and XGBoost. The initial stages include encoding categorical variables and executing Recursive Feature Elimination (RFE) for feature selection. This is succeeded by the application of genetic algorithms to hyperparameter tuning, operating in tandem with a cross-validation routine. Subsequently, the best model is selected based on the highest F1 score, indicating the balance between precision and recall. Finally, the selected model is utilized to predict the outcomes for the current week's round of NRL matches. This process is iterative and cyclical, with the potential for revisiting earlier stages based on the model's performance. Let us proceed with this in-depth exploration.\n",
    "\n",
    "## Set up Environment\n",
    "This code segment is setting up the environment for the model training pipeline. It begins by importing sys and pathlib - Python libraries used for managing system parameters and file paths, respectively.\n",
    "\n",
    "The code then updates the system path to include the \"functions\" directory. This allows for the import of custom modules `modelling_functions`, `model_properties`, and `training_config` which are stored in this directory. These modules contain custom functions and configuration settings that are critical for the later stages of data preprocessing, model training, and prediction.\n",
    "\n",
    "Following this, the `project_root` variable is defined. This is achieved by using the pathlib library to establish the root directory of the project.\n",
    "\n",
    "Finally, the `db_path` variable is constructed. This is the relative path to the SQLite database \"footy-tipper-db.sqlite\", which is located in the \"data\" directory of the project root. This path will be used for database connectivity throughout the pipeline."
   ]
  },
  {
   "cell_type": "code",
   "execution_count": 1,
   "metadata": {},
   "outputs": [],
   "source": [
    "# import libraries\n",
    "import os\n",
    "import sys\n",
    "import pathlib\n",
    "\n",
    "cwd = os.getcwd()\n",
    "\n",
    "# get the parent directory\n",
    "parent_dir = os.path.dirname(cwd)\n",
    "\n",
    "# add the parent directory to the system path\n",
    "sys.path.insert(0, parent_dir)\n",
    "\n",
    "# Get to the root directory\n",
    "project_root = pathlib.Path().absolute().parent\n",
    "\n",
    "# import functions from common like this:\n",
    "from pipeline.common.model_training import (\n",
    "    training_config as tc,\n",
    "    modelling_functions as mf,\n",
    "    model_properties as mp\n",
    ")\n",
    "\n",
    "from pipeline.common.model_prediciton import prediction_functions as pf"
   ]
  },
  {
   "attachments": {},
   "cell_type": "markdown",
   "metadata": {},
   "source": [
    "## Get data\n",
    "Our process starts by establishing the root directory of the project and constructing the relative path to the 'footy-tipper-db.sqlite' database located within the 'data' directory. We then connect to this SQLite database and use a SQL query housed in the 'footy_tipping_data.sql' file, found in the 'sql' directory, to extract the required data. This data is loaded into a pandas DataFrame, footy_tipping_data, serving as the basis for our subsequent modeling activities. Upon successful extraction of the data, we ensure the database connection is closed, maintaining good coding practice and resource management."
   ]
  },
  {
   "cell_type": "code",
   "execution_count": null,
   "metadata": {},
   "outputs": [],
   "source": [
    "training_data = mf.get_training_data(\n",
    "    db_path = project_root / \"data\" / \"footy-tipper-db.sqlite\", \n",
    "    sql_file = project_root / 'pipeline/common/sql/training_data.sql')\n",
    "\n",
    "training_data"
   ]
  },
  {
   "attachments": {},
   "cell_type": "markdown",
   "metadata": {},
   "source": [
    "## Modelling\n",
    "During the modelling phase, the `train_and_select_best_model` function, part of our `modelling_functions` module, is invoked. This function initiates the training of three distinct models: XGBoost, Random Forest, and Gradient Boosting Classifier. It takes as input the footy tipping data, predictor variables, the outcome variable, and several configuration settings like whether to use Recursive Feature Elimination (RFE), the number of cross-validation folds, and the optimization metric, all sourced from the `training_config` module.\n",
    "\n",
    "The function first identifies categorical columns in the feature set for one-hot encoding, creating dummy variables for categorical features. Depending on the choice of using RFE, a feature elimination step may be included in the pipeline. Each model subsequently undergoes hyperparameter tuning using a genetic algorithm, facilitated by the `GASearchCV` function.\n",
    "\n",
    "All the models are then trained and evaluated through cross-validation. The best model, or `footy_tipper`, is selected based on the superior performance on the chosen optimization metric. Additionally, a `LabelEncoder`(`label_encoder`), used to encode the categorical target variable, is returned. This LabelEncoder is specific to the model that performed best. The selected model, encapsulated in a pipeline with pre-processing steps and hyperparameter tuning, is now ready for the prediction phase."
   ]
  },
  {
   "cell_type": "code",
   "execution_count": null,
   "metadata": {},
   "outputs": [],
   "source": [
    "footy_tipper, label_encoder = mf.train_and_select_best_model(\n",
    "    training_data, tc.predictors, tc.outcome_var,\n",
    "    tc.use_rfe, tc.num_folds, tc.opt_metric\n",
    ")\n",
    "footy_tipper"
   ]
  },
  {
   "cell_type": "markdown",
   "metadata": {},
   "source": [
    "### Display feature importance\n",
    "The `get_feature_importance` function retrieves feature importances from a trained scikit-learn pipeline. It accounts for different transformations, such as one-hot encoding and recursive feature elimination. The function then returns a sorted DataFrame listing each feature alongside its respective importance, aiding in understanding the model's decision-making process."
   ]
  },
  {
   "cell_type": "code",
   "execution_count": null,
   "metadata": {},
   "outputs": [],
   "source": [
    "# feature_importance_df = mp.get_feature_importances_from_pipeline(footy_tipper, tc.predictors)\n",
    "# feature_importance_df"
   ]
  },
  {
   "cell_type": "markdown",
   "metadata": {},
   "source": [
    "## Save Model\n",
    "The `save_models` function stores the trained LabelEncoder and Pipeline objects to the disk. This allows for easy retrieval and reuse in future model prediction tasks, without the need to retrain these components. The objects are stored in a designated 'models' directory under the project root path, ensuring organized and consistent storage."
   ]
  },
  {
   "cell_type": "code",
   "execution_count": null,
   "metadata": {},
   "outputs": [],
   "source": [
    "mf.save_models(label_encoder, footy_tipper, project_root)"
   ]
  },
  {
   "cell_type": "markdown",
   "metadata": {},
   "source": [
    "## Predict\n",
    "The final stage of the pipeline involves predicting the outcomes of the current week's NRL matches. This is achieved by connecting to the SQLite database and extracting the required data. The trained model and LabelEncoder are then loaded from the disk, and the prediction is performed using the `model_predictions` function. The predictions are stored in the 'predictions' table of the database, allowing for easy retrieval and analysis."
   ]
  },
  {
   "cell_type": "code",
   "execution_count": null,
   "metadata": {},
   "outputs": [],
   "source": [
    "label_encoder, footy_tipper = pf.load_models(project_root)"
   ]
  },
  {
   "cell_type": "code",
   "execution_count": null,
   "metadata": {},
   "outputs": [],
   "source": [
    "inference_data = pf.get_inference_data(\n",
    "    db_path = project_root / \"data\" / \"footy-tipper-db.sqlite\", \n",
    "    sql_file = project_root / 'pipeline/common/sql/inference_data.sql')\n",
    "inference_data"
   ]
  },
  {
   "cell_type": "code",
   "execution_count": null,
   "metadata": {},
   "outputs": [],
   "source": [
    "predictions_df = pf.model_predictions(footy_tipper, inference_data, label_encoder)\n",
    "predictions_df"
   ]
  },
  {
   "cell_type": "code",
   "execution_count": null,
   "metadata": {},
   "outputs": [],
   "source": [
    "pf.save_predictions_to_db(\n",
    "    predictions_df, \n",
    "    project_root / \"data\" / \"footy-tipper-db.sqlite\", \n",
    "    project_root / 'pipeline/common/sql/create_table.sql', \n",
    "    project_root / 'pipeline/common/sql/insert_into_table.sql'\n",
    ")"
   ]
  },
  {
   "cell_type": "markdown",
   "metadata": {},
   "source": [
    "# this is the sending bit"
   ]
  },
  {
   "cell_type": "code",
   "execution_count": 2,
   "metadata": {},
   "outputs": [
    {
     "data": {
      "text/plain": [
       "True"
      ]
     },
     "execution_count": 2,
     "metadata": {},
     "output_type": "execute_result"
    }
   ],
   "source": [
    "from dotenv import load_dotenv\n",
    "from pipeline.common.model_prediciton import prediction_functions as pf\n",
    "from pipeline.common.use_predictions import sending_functions as sf\n",
    "\n",
    "# Now construct the relative path to your SQLite database\n",
    "db_path = project_root / \"data\" / \"footy-tipper-db.sqlite\"\n",
    "secrets_path = project_root / \"secrets.env\"\n",
    "json_path = project_root / \"service-account-token.json\"\n",
    "\n",
    "load_dotenv(dotenv_path=secrets_path)"
   ]
  },
  {
   "cell_type": "code",
   "execution_count": 3,
   "metadata": {},
   "outputs": [
    {
     "data": {
      "text/html": [
       "<div>\n",
       "<style scoped>\n",
       "    .dataframe tbody tr th:only-of-type {\n",
       "        vertical-align: middle;\n",
       "    }\n",
       "\n",
       "    .dataframe tbody tr th {\n",
       "        vertical-align: top;\n",
       "    }\n",
       "\n",
       "    .dataframe thead th {\n",
       "        text-align: right;\n",
       "    }\n",
       "</style>\n",
       "<table border=\"1\" class=\"dataframe\">\n",
       "  <thead>\n",
       "    <tr style=\"text-align: right;\">\n",
       "      <th></th>\n",
       "      <th>game_id</th>\n",
       "      <th>home_team_result</th>\n",
       "      <th>team_home</th>\n",
       "      <th>position_home</th>\n",
       "      <th>team_head_to_head_odds_home</th>\n",
       "      <th>team_away</th>\n",
       "      <th>position_away</th>\n",
       "      <th>team_head_to_head_odds_away</th>\n",
       "      <th>home_team_win_prob</th>\n",
       "      <th>home_team_lose_prob</th>\n",
       "      <th>round_id</th>\n",
       "      <th>competition_year</th>\n",
       "      <th>round_name</th>\n",
       "    </tr>\n",
       "  </thead>\n",
       "  <tbody>\n",
       "    <tr>\n",
       "      <th>0</th>\n",
       "      <td>20241110410</td>\n",
       "      <td>Win</td>\n",
       "      <td>Sydney Roosters</td>\n",
       "      <td>2</td>\n",
       "      <td>1.55</td>\n",
       "      <td>Penrith Panthers</td>\n",
       "      <td>4</td>\n",
       "      <td>2.46</td>\n",
       "      <td>0.616050</td>\n",
       "      <td>0.383950</td>\n",
       "      <td>4</td>\n",
       "      <td>2024</td>\n",
       "      <td>Round 4</td>\n",
       "    </tr>\n",
       "    <tr>\n",
       "      <th>1</th>\n",
       "      <td>20241110420</td>\n",
       "      <td>Win</td>\n",
       "      <td>South Sydney Rabbitohs</td>\n",
       "      <td>17</td>\n",
       "      <td>1.53</td>\n",
       "      <td>Canterbury-Bankstown Bulldogs</td>\n",
       "      <td>12</td>\n",
       "      <td>2.51</td>\n",
       "      <td>0.601068</td>\n",
       "      <td>0.398932</td>\n",
       "      <td>4</td>\n",
       "      <td>2024</td>\n",
       "      <td>Round 4</td>\n",
       "    </tr>\n",
       "    <tr>\n",
       "      <th>2</th>\n",
       "      <td>20241110430</td>\n",
       "      <td>Loss</td>\n",
       "      <td>Brisbane Broncos</td>\n",
       "      <td>14</td>\n",
       "      <td>2.04</td>\n",
       "      <td>North Queensland Cowboys</td>\n",
       "      <td>1</td>\n",
       "      <td>1.81</td>\n",
       "      <td>0.465250</td>\n",
       "      <td>0.534750</td>\n",
       "      <td>4</td>\n",
       "      <td>2024</td>\n",
       "      <td>Round 4</td>\n",
       "    </tr>\n",
       "    <tr>\n",
       "      <th>3</th>\n",
       "      <td>20241110440</td>\n",
       "      <td>Loss</td>\n",
       "      <td>St. George Illawarra Dragons</td>\n",
       "      <td>15</td>\n",
       "      <td>3.30</td>\n",
       "      <td>Manly-Warringah Sea Eagles</td>\n",
       "      <td>5</td>\n",
       "      <td>1.34</td>\n",
       "      <td>0.315587</td>\n",
       "      <td>0.684413</td>\n",
       "      <td>4</td>\n",
       "      <td>2024</td>\n",
       "      <td>Round 4</td>\n",
       "    </tr>\n",
       "    <tr>\n",
       "      <th>4</th>\n",
       "      <td>20241110450</td>\n",
       "      <td>Win</td>\n",
       "      <td>Gold Coast Titans</td>\n",
       "      <td>16</td>\n",
       "      <td>2.28</td>\n",
       "      <td>Dolphins</td>\n",
       "      <td>7</td>\n",
       "      <td>1.63</td>\n",
       "      <td>0.623826</td>\n",
       "      <td>0.376174</td>\n",
       "      <td>4</td>\n",
       "      <td>2024</td>\n",
       "      <td>Round 4</td>\n",
       "    </tr>\n",
       "    <tr>\n",
       "      <th>5</th>\n",
       "      <td>20241110460</td>\n",
       "      <td>Win</td>\n",
       "      <td>New Zealand Warriors</td>\n",
       "      <td>11</td>\n",
       "      <td>1.38</td>\n",
       "      <td>Newcastle Knights</td>\n",
       "      <td>13</td>\n",
       "      <td>3.05</td>\n",
       "      <td>0.673384</td>\n",
       "      <td>0.326616</td>\n",
       "      <td>4</td>\n",
       "      <td>2024</td>\n",
       "      <td>Round 4</td>\n",
       "    </tr>\n",
       "    <tr>\n",
       "      <th>6</th>\n",
       "      <td>20241110470</td>\n",
       "      <td>Win</td>\n",
       "      <td>Cronulla-Sutherland Sharks</td>\n",
       "      <td>10</td>\n",
       "      <td>1.60</td>\n",
       "      <td>Canberra Raiders</td>\n",
       "      <td>3</td>\n",
       "      <td>2.35</td>\n",
       "      <td>0.579635</td>\n",
       "      <td>0.420365</td>\n",
       "      <td>4</td>\n",
       "      <td>2024</td>\n",
       "      <td>Round 4</td>\n",
       "    </tr>\n",
       "    <tr>\n",
       "      <th>7</th>\n",
       "      <td>20241110480</td>\n",
       "      <td>Win</td>\n",
       "      <td>Parramatta Eels</td>\n",
       "      <td>6</td>\n",
       "      <td>1.49</td>\n",
       "      <td>Wests Tigers</td>\n",
       "      <td>9</td>\n",
       "      <td>2.64</td>\n",
       "      <td>0.576499</td>\n",
       "      <td>0.423501</td>\n",
       "      <td>4</td>\n",
       "      <td>2024</td>\n",
       "      <td>Round 4</td>\n",
       "    </tr>\n",
       "  </tbody>\n",
       "</table>\n",
       "</div>"
      ],
      "text/plain": [
       "       game_id home_team_result                     team_home  position_home  \\\n",
       "0  20241110410              Win               Sydney Roosters              2   \n",
       "1  20241110420              Win        South Sydney Rabbitohs             17   \n",
       "2  20241110430             Loss              Brisbane Broncos             14   \n",
       "3  20241110440             Loss  St. George Illawarra Dragons             15   \n",
       "4  20241110450              Win             Gold Coast Titans             16   \n",
       "5  20241110460              Win          New Zealand Warriors             11   \n",
       "6  20241110470              Win    Cronulla-Sutherland Sharks             10   \n",
       "7  20241110480              Win               Parramatta Eels              6   \n",
       "\n",
       "   team_head_to_head_odds_home                      team_away  position_away  \\\n",
       "0                         1.55               Penrith Panthers              4   \n",
       "1                         1.53  Canterbury-Bankstown Bulldogs             12   \n",
       "2                         2.04       North Queensland Cowboys              1   \n",
       "3                         3.30     Manly-Warringah Sea Eagles              5   \n",
       "4                         2.28                       Dolphins              7   \n",
       "5                         1.38              Newcastle Knights             13   \n",
       "6                         1.60               Canberra Raiders              3   \n",
       "7                         1.49                   Wests Tigers              9   \n",
       "\n",
       "   team_head_to_head_odds_away  home_team_win_prob  home_team_lose_prob  \\\n",
       "0                         2.46            0.616050             0.383950   \n",
       "1                         2.51            0.601068             0.398932   \n",
       "2                         1.81            0.465250             0.534750   \n",
       "3                         1.34            0.315587             0.684413   \n",
       "4                         1.63            0.623826             0.376174   \n",
       "5                         3.05            0.673384             0.326616   \n",
       "6                         2.35            0.579635             0.420365   \n",
       "7                         2.64            0.576499             0.423501   \n",
       "\n",
       "   round_id  competition_year round_name  \n",
       "0         4              2024    Round 4  \n",
       "1         4              2024    Round 4  \n",
       "2         4              2024    Round 4  \n",
       "3         4              2024    Round 4  \n",
       "4         4              2024    Round 4  \n",
       "5         4              2024    Round 4  \n",
       "6         4              2024    Round 4  \n",
       "7         4              2024    Round 4  "
      ]
     },
     "execution_count": 3,
     "metadata": {},
     "output_type": "execute_result"
    }
   ],
   "source": [
    "import sqlite3\n",
    "import pandas as pd\n",
    "# Connect to the SQLite database\n",
    "con = sqlite3.connect(str(db_path))\n",
    "\n",
    "# Read SQL query from external SQL file\n",
    "with open(project_root / 'pipeline/common' / 'sql/prediction_table.sql', 'r') as file:\n",
    "    query = file.read()\n",
    "\n",
    "# Execute the query and fetch the results into a data frame\n",
    "predictions = pd.read_sql_query(query, con)\n",
    "\n",
    "# Disconnect from the SQLite database\n",
    "con.close()\n",
    "\n",
    "predictions"
   ]
  },
  {
   "cell_type": "code",
   "execution_count": 4,
   "metadata": {},
   "outputs": [
    {
     "data": {
      "text/html": [
       "<div>\n",
       "<style scoped>\n",
       "    .dataframe tbody tr th:only-of-type {\n",
       "        vertical-align: middle;\n",
       "    }\n",
       "\n",
       "    .dataframe tbody tr th {\n",
       "        vertical-align: top;\n",
       "    }\n",
       "\n",
       "    .dataframe thead th {\n",
       "        text-align: right;\n",
       "    }\n",
       "</style>\n",
       "<table border=\"1\" class=\"dataframe\">\n",
       "  <thead>\n",
       "    <tr style=\"text-align: right;\">\n",
       "      <th></th>\n",
       "      <th>team</th>\n",
       "      <th>price</th>\n",
       "      <th>price_min</th>\n",
       "    </tr>\n",
       "  </thead>\n",
       "  <tbody>\n",
       "    <tr>\n",
       "      <th>4</th>\n",
       "      <td>Gold Coast Titans</td>\n",
       "      <td>2.28</td>\n",
       "      <td>1.603012</td>\n",
       "    </tr>\n",
       "  </tbody>\n",
       "</table>\n",
       "</div>"
      ],
      "text/plain": [
       "                team  price  price_min\n",
       "4  Gold Coast Titans   2.28   1.603012"
      ]
     },
     "execution_count": 4,
     "metadata": {},
     "output_type": "execute_result"
    }
   ],
   "source": [
    "tipper_picks = sf.get_tipper_picks(predictions)\n",
    "tipper_picks"
   ]
  },
  {
   "cell_type": "code",
   "execution_count": null,
   "metadata": {},
   "outputs": [],
   "source": [
    "sf.upload_df_to_drive(\n",
    "    predictions, \n",
    "    json_path, \n",
    "    os.getenv('FOLDER_ID'), \n",
    "    \"predictions.csv\"\n",
    ")"
   ]
  },
  {
   "cell_type": "code",
   "execution_count": 6,
   "metadata": {},
   "outputs": [
    {
     "name": "stdout",
     "output_type": "stream",
     "text": [
      "Subject: Round 4 Tips & Bants from Reg Reagan - NRL 2024 Extravaganza 🏉\n",
      "\n",
      "Hey Mates,\n",
      "\n",
      "Reg Reagan here, bringing you the cream of the crop - the crème de la crème of NRL Round 4, 2024. Let's dive into what's baking in the oven this round, complete with a side of my classic, cheeky commentary. Before we kick off, remember, if you're in tipping comps at the Seven Seas Hotel in Carrington or the Ship Inn on Hunter St, these gold nuggets aren't for your pockets. Let's keep it fair and square – or as square as a rugby ball can get.\n",
      "\n",
      "🐓 **Sydney Roosters vs. Penrith Panthers** - The Chooks are sitting pretty in 2nd, but aren't they always? They're strutting around like they own the joint with a price of 1.55. The Panthers, on the other paw, are lurking in the shadows in 4th spot at 2.46. Could be a claw-out, but I reckon the Roosters have this one in the bag.\n",
      "\n",
      "🐇 **South Sydney Rabbitohs vs. Canterbury-Bankstown Bulldogs** - The Bunnies are somehow in 17th yet favoured at 1.53 - must be pulling some magic out of the hat. The Doggies are chasing tails in 12th place with 2.51. Expect some fur to fly, but my bucks are on the rabbits hopping away with the win.\n",
      "\n",
      "🐴 **Brisbane Broncos vs. North Queensland Cowboys** - Broncos in 14th and losing? At 2.04, someone's been sniffing the horse feed. Cowboys are top of the ladder, shining bright at 1.81. Expect the Cowboys to lasso this one easy.\n",
      "\n",
      "🐉 **St. George Illawarra Dragons vs. Manly-Warringah Sea Eagles** - Dragons are breathing fire down in 15th, with odds at 3.3. And then there's Manly in 5th at 1.34. As much as it pains me, looks like the Sea Eagles will pluck the Dragons. I hate to say it, but even I can't deny reality.\n",
      "\n",
      "🔱 **Gold Coast Titans vs. Dolphins** - The Titans are in a bit of a pickle in 16th but hold your horses, they’re my sneaky tip at 2.28! The Dolphins are swimming around in 7th at 1.63. Betting against the grain here, but Titans to catch the Dolphins off guard.\n",
      "\n",
      "⚔️ **New Zealand Warriors vs. Newcastle Knights** - My beloved Knights, what are you doing in 13th? At 3.05, my heart bleeds. Warriors in 11th at 1.38. But as they say, hope springs eternal. Go Knights!\n",
      "\n",
      "🦈 **Cronulla-Sutherland Sharks vs. Canberra Raiders** - Sharks circling in 10th with a bite at 1.6. Raiders in 3rd at 2.35, could be a closer one than expected. Sharks to narrowly edge out, marking their territory.\n",
      "\n",
      "🐍 **Parramatta Eels vs. Wests Tigers** - Eels slithering in 6th at 1.49, while the Tigers prowl in 9th at 2.64. Expect the Eels to zap through this one.\n",
      "\n",
      "And for those looking to make a quid, keep your eyes peeled on the **Gold Coast Titans at 2.28**. Good value there if you ask me - it's like finding a winning scratchie in your nan's couch cushions.\n",
      "\n",
      "Before I let you loose on this smorgasbord of tips, check out our cheeky banter and groundbreaking tips [right here](https://drive.google.com/drive/u/1/folders/1lT1SQH-kQPdnOf3ftomobuiv51jEj6t-). \n",
      "\n",
      "And remember, fellas, let's bring back the biff. Rugby league isn’t tiddlywinks.\n",
      "\n",
      "Cheers,  \n",
      "Reg Reagan\n",
      "\n",
      "P.S. Go the Knights and down with Manly!\n"
     ]
    }
   ],
   "source": [
    "reg_reagan = sf.generate_reg_regan_email(\n",
    "    predictions, \n",
    "    tipper_picks, \n",
    "    os.getenv('OPENAI_KEY'), \n",
    "    os.getenv('FOLDER_URL'),\n",
    "    1\n",
    ")\n",
    "\n",
    "print(reg_reagan)"
   ]
  },
  {
   "cell_type": "code",
   "execution_count": null,
   "metadata": {},
   "outputs": [],
   "source": [
    "sf.send_emails(\n",
    "    \"footy-tipper-email-list\", \n",
    "    f\"Footy Tipper Predictions for {predictions['round_name'].unique()[0]}\", \n",
    "    reg_reagan, \n",
    "    os.getenv('MY_EMAIL'), \n",
    "    os.getenv('EMAIL_PASSWORD'), \n",
    "    json_path\n",
    ")"
   ]
  }
 ],
 "metadata": {
  "kernelspec": {
   "display_name": "Python 3",
   "language": "python",
   "name": "python3"
  },
  "language_info": {
   "codemirror_mode": {
    "name": "ipython",
    "version": 3
   },
   "file_extension": ".py",
   "mimetype": "text/x-python",
   "name": "python",
   "nbconvert_exporter": "python",
   "pygments_lexer": "ipython3",
   "version": "3.11.4"
  },
  "orig_nbformat": 4
 },
 "nbformat": 4,
 "nbformat_minor": 2
}
