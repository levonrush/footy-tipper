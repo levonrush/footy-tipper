{
 "cells": [
  {
   "attachments": {},
   "cell_type": "markdown",
   "metadata": {},
   "source": [
    "# Send my predictions to the boys\n",
    "This system functions as a seamless pipeline that performs a series of intriguing operations, the primary of which is sourcing the current week's Footy Tipper predictions. With this information in hand, the pipeline proceeds to the next stage where it employs the advanced linguistic abilities of ChatGPT. Mimicking the persona of Reg Regan, the AI drafts an engaging and informed email containing the predictions. Upon completion, the email is dispatched to the boys, ensuring they are consistently kept in the loop with the latest Footy Tipper forecasts. The entire operation is a seamless fusion of sports analytics and artificial intelligence, creating an engaging and personalized user experience.\n",
    "\n",
    "## Set up environment\n",
    "The setup environment section of this project involves importing crucial libraries such as os, sys, sqlite3, pathlib, and pandas for various functionalities, along with dotenv for loading environment variables. Custom functions from the 'use-predictions' directory are also imported. Paths are established to the SQLite database, the secrets environment file, and a service account token file. Lastly, the script loads environment variables from the secrets file, enhancing security for sensitive elements."
   ]
  },
  {
   "cell_type": "code",
   "execution_count": 5,
   "metadata": {},
   "outputs": [
    {
     "data": {
      "text/plain": [
       "True"
      ]
     },
     "execution_count": 5,
     "metadata": {},
     "output_type": "execute_result"
    }
   ],
   "source": [
    "# import libraries\n",
    "import os\n",
    "import sys\n",
    "import pathlib\n",
    "from dotenv import load_dotenv\n",
    "\n",
    "# this takes us down a level to the root of the project\n",
    "sys.path.insert(0, os.path.abspath('..'))\n",
    "\n",
    "# import functions from common like this:\n",
    "from pipeline.common.model_prediciton import prediction_functions as pf\n",
    "from pipeline.common.use_predictions import sending_functions as sf\n",
    "\n",
    "# Get to the root directory\n",
    "project_root = pathlib.Path().absolute().parent\n",
    "\n",
    "# Now construct the relative path to your SQLite database\n",
    "db_path = project_root / \"data\" / \"footy-tipper-db.sqlite\"\n",
    "secrets_path = project_root / \"secrets.env\"\n",
    "json_path = project_root / \"service-account-token.json\"\n",
    "\n",
    "load_dotenv(dotenv_path=secrets_path)"
   ]
  },
  {
   "cell_type": "code",
   "execution_count": 1,
   "metadata": {},
   "outputs": [
    {
     "data": {
      "text/plain": [
       "True"
      ]
     },
     "execution_count": 1,
     "metadata": {},
     "output_type": "execute_result"
    }
   ],
   "source": [
    "# # for the predictions\n",
    "# import os\n",
    "# import sys\n",
    "# import sqlite3\n",
    "# import pathlib\n",
    "# import pandas as pd\n",
    "# from dotenv import load_dotenv\n",
    "\n",
    "# # my funcitons\n",
    "# sys.path.append(\"functions\") \n",
    "# import sending_functions as sf\n",
    "\n",
    "# # Get to the root directory\n",
    "# project_root = pathlib.Path().absolute().parent.parent\n",
    "\n",
    "# # Now construct the relative path to your SQLite database\n",
    "# db_path = project_root / \"data\" / \"footy-tipper-db.sqlite\"\n",
    "# secrets_path = project_root / \"secrets.env\"\n",
    "# json_path = project_root / \"service-account-token.json\"\n",
    "\n",
    "# # lead secrets\n",
    "# load_dotenv(dotenv_path=secrets_path)"
   ]
  },
  {
   "attachments": {},
   "cell_type": "markdown",
   "metadata": {},
   "source": [
    "## Get prediciton data\n",
    "For acquiring prediction data, the script begins by establishing a connection with the SQLite database using the established db_path. Once the connection is created, an SQL query is read from an external file named 'prediction_table.sql'. This query is designed to retrieve the necessary prediction data. The script then executes this query against the SQLite database and fetches the results into a Pandas DataFrame, predictions, enabling further data manipulation and analysis. Following the successful extraction of prediction data, the script closes the connection to the SQLite database to maintain good programming practice. The predictions dataframe is then displayed to review the retrieved data."
   ]
  },
  {
   "cell_type": "code",
   "execution_count": 6,
   "metadata": {},
   "outputs": [],
   "source": [
    "predictions = pf.get_predictions(db_path, project_root / 'pipeline/common/sql/prediction_table.sql')\n",
    "predictions"
   ]
  },
  {
   "cell_type": "code",
   "execution_count": 7,
   "metadata": {},
   "outputs": [],
   "source": [
    "# # Connect to the SQLite database\n",
    "# con = sqlite3.connect(str(db_path))\n",
    "\n",
    "# # Read SQL query from external SQL file\n",
    "# with open('sql/prediction_table.sql', 'r') as file:\n",
    "#     query = file.read()\n",
    "\n",
    "# # Execute the query and fetch the results into a data frame\n",
    "# predictions = pd.read_sql_query(query, con)\n",
    "\n",
    "# # Disconnect from the SQLite database\n",
    "# con.close()\n",
    "\n",
    "predictions"
   ]
  },
  {
   "attachments": {},
   "cell_type": "markdown",
   "metadata": {},
   "source": [
    "## Get Tipper Picks\n",
    "For the crucial step of deriving the 'tipper picks', the function get_tipper_picks() from the previously imported 'sending_functions' module is used. This function operates on the predictions DataFrame, sifting through the data to identify the best market value based on the provided predictions. These selections, aptly named 'tipper picks', represent the optimal choices for those among the boys who are keen to place a punt. After the function has identified the 'tipper picks', these selections are assigned to the tipper_picks DataFrame for easy reference and further usage. This DataFrame is then displayed for review and verification."
   ]
  },
  {
   "cell_type": "code",
   "execution_count": 4,
   "metadata": {},
   "outputs": [
    {
     "ename": "TypeError",
     "evalue": "'NoneType' object is not subscriptable",
     "output_type": "error",
     "traceback": [
      "\u001b[0;31m---------------------------------------------------------------------------\u001b[0m",
      "\u001b[0;31mTypeError\u001b[0m                                 Traceback (most recent call last)",
      "Cell \u001b[0;32mIn[4], line 1\u001b[0m\n\u001b[0;32m----> 1\u001b[0m tipper_picks \u001b[38;5;241m=\u001b[39m \u001b[43msf\u001b[49m\u001b[38;5;241;43m.\u001b[39;49m\u001b[43mget_tipper_picks\u001b[49m\u001b[43m(\u001b[49m\u001b[43mpredictions\u001b[49m\u001b[43m)\u001b[49m\n\u001b[1;32m      2\u001b[0m tipper_picks\n",
      "File \u001b[0;32m~/Documents/GitHub/footy-tipper/pipeline/common/use_predictions/sending_functions.py:23\u001b[0m, in \u001b[0;36mget_tipper_picks\u001b[0;34m(predictions, prod_run)\u001b[0m\n\u001b[1;32m     20\u001b[0m \u001b[38;5;28;01mdef\u001b[39;00m \u001b[38;5;21mget_tipper_picks\u001b[39m(predictions, prod_run\u001b[38;5;241m=\u001b[39m\u001b[38;5;28;01mFalse\u001b[39;00m):\n\u001b[1;32m     21\u001b[0m     \n\u001b[1;32m     22\u001b[0m     \u001b[38;5;66;03m# Calculate odds thresholds for home and away teams\u001b[39;00m\n\u001b[0;32m---> 23\u001b[0m     predictions[\u001b[38;5;124m'\u001b[39m\u001b[38;5;124mhome_odds_thresh\u001b[39m\u001b[38;5;124m'\u001b[39m] \u001b[38;5;241m=\u001b[39m \u001b[38;5;241m1\u001b[39m \u001b[38;5;241m/\u001b[39m \u001b[43mpredictions\u001b[49m\u001b[43m[\u001b[49m\u001b[38;5;124;43m'\u001b[39;49m\u001b[38;5;124;43mhome_team_win_prob\u001b[39;49m\u001b[38;5;124;43m'\u001b[39;49m\u001b[43m]\u001b[49m\n\u001b[1;32m     24\u001b[0m     predictions[\u001b[38;5;124m'\u001b[39m\u001b[38;5;124maway_odds_thresh\u001b[39m\u001b[38;5;124m'\u001b[39m] \u001b[38;5;241m=\u001b[39m \u001b[38;5;241m1\u001b[39m \u001b[38;5;241m/\u001b[39m predictions[\u001b[38;5;124m'\u001b[39m\u001b[38;5;124mhome_team_lose_prob\u001b[39m\u001b[38;5;124m'\u001b[39m] \n\u001b[1;32m     26\u001b[0m     \u001b[38;5;66;03m# Select home teams that are predicted to win and rename the columns accordingly.\u001b[39;00m\n",
      "\u001b[0;31mTypeError\u001b[0m: 'NoneType' object is not subscriptable"
     ]
    }
   ],
   "source": [
    "tipper_picks = sf.get_tipper_picks(predictions)\n",
    "tipper_picks"
   ]
  },
  {
   "attachments": {},
   "cell_type": "markdown",
   "metadata": {},
   "source": [
    "## Save predicitons\n",
    "In the 'Save Predictions' section, the predictions data, stored in the predictions DataFrame, is saved to Google Drive for record-keeping and future reference. This is accomplished using the upload_df_to_drive() function from the 'sending_functions' module. This function takes four arguments: the DataFrame to be uploaded (predictions), the path to the service account token (json_path), the Google Drive folder ID (which is securely accessed using os.getenv('FOLDER_ID') to fetch the environment variable), and the desired name of the file to be saved in the drive (\"predictions.csv\"). This process ensures that the valuable predictions data is not only used in the immediate context but also archived securely in Google Drive for potential future usage or analysis."
   ]
  },
  {
   "cell_type": "code",
   "execution_count": 4,
   "metadata": {},
   "outputs": [
    {
     "name": "stdout",
     "output_type": "stream",
     "text": [
      "File ID: 1z2C5FkNTJxAfkO8DBj1MJTFK78EE613f\n"
     ]
    }
   ],
   "source": [
    "sf.upload_df_to_drive(\n",
    "    predictions, \n",
    "    json_path, \n",
    "    os.getenv('FOLDER_ID'), \n",
    "    \"predictions.csv\"\n",
    ")"
   ]
  },
  {
   "attachments": {},
   "cell_type": "markdown",
   "metadata": {},
   "source": [
    "## Reg R-ai-gan\n",
    "\n",
    "In the 'Reg Regan Email Generation' phase, the system employs the sophisticated language model, ChatGPT, to draft an email encapsulating the week's footy predictions and tipper picks. The generate_reg_regan_email() function, hailing from the 'sending_functions' module, facilitates this operation. It accepts four arguments: the predictions and tipper_picks DataFrames, which contain the necessary information for the email content; the OpenAI API key (os.getenv('OPENAI_KEY')), fetched securely from the environment variables, which grants the ability to access the language model; and the URL of the Google Drive folder (os.getenv('FOLDER_URL')), to which the predictions.csv file was uploaded. The function compiles this information into an engaging, intelligently crafted email, channeling the persona of Reg Regan. Once the email is generated, it's assigned to the reg_regan variable and printed out for review before being sent to the boys."
   ]
  },
  {
   "cell_type": "code",
   "execution_count": 6,
   "metadata": {},
   "outputs": [
    {
     "name": "stderr",
     "output_type": "stream",
     "text": [
      "/opt/homebrew/lib/python3.11/site-packages/langchain/llms/openai.py:173: UserWarning: You are trying to use a chat model. This way of initializing it is no longer supported. Instead, please use: `from langchain.chat_models import ChatOpenAI`\n",
      "  warnings.warn(\n",
      "/opt/homebrew/lib/python3.11/site-packages/langchain/llms/openai.py:753: UserWarning: You are trying to use a chat model. This way of initializing it is no longer supported. Instead, please use: `from langchain.chat_models import ChatOpenAI`\n",
      "  warnings.warn(\n"
     ]
    },
    {
     "name": "stdout",
     "output_type": "stream",
     "text": [
      "Subject: Round 1 2024 Footy Tipper Predictions and Musings\n",
      "\n",
      "G'day Mates,\n",
      "\n",
      "It's your old mate Reg Reagan here, armed with the predictions from the fancy pants, big brained Footy Tipper for Round 1 of the NRL 2024.\n",
      "\n",
      "First up, the Manly-Warringah Sea Eagles, our feathered friends from the northern beaches, hosting South Sydney Rabbitohs. The algorithm gods predict a win for the home side. But remember, this comes from a robot who wouldn't know a footy from a pie. I mean, who would back Manly? They couldn't even punt a pigeon!\n",
      "\n",
      "Sydney Roosters are predicted a loss against the mighty Brisbane Broncos. The fancy chooks look like they'll be out pecked. Remember when the Roosters could actually play? Nah, me neither.\n",
      "\n",
      "The Knights, well isn't that a sight for sore eyes! My beloved Novocastrians are expected to throw a proper welcome party for the Canberra Raiders. There'll be no cold winds blowing in from the capital.\n",
      "\n",
      "Out west, the New Zealand Warriors are expected to slump to the Cronulla-Sutherland Sharks. Always amusing watching the Warriors play. At least the Sharks are going to make the bold journey over the ditch.\n",
      "\n",
      "Melbourne Storm is tipped for a win against the Penrith Panthers. Must be rigged, I always knew Melbourne had it easy. Don't get me started on the Panthers...\n",
      "\n",
      "The Eels are about to coil up the Canterbury-Bankstown Bulldogs. Ah, the Bulldogs, the maroon and blue muffins, always there to make Parramatta look good.\n",
      "\n",
      "Down south we have the Gold Coast Titans predicted to shine on the St. George Illawarra Dragons. I've seen sandcastles put up a better fight than the Dragons.\n",
      "\n",
      "Last but not least, the Dolphins are tipped for a win against the North Queensland Cowboys. The Dolphins are new but I guess even Flipper could’ve tipped this one.\n",
      "\n",
      "Now, onto the bets, my mates. There’s no value picks this time. The bookies aren't offering us anything. Even the Footy Tipper couldn't rescue the situation. Those stingy sods!\n",
      "\n",
      "Here's the link to the tips folder: https://drive.google.com/drive/u/1/folders/1lT1SQH-kQPdnOf3ftomobuiv51jEj6t- \n",
      "\n",
      "Remember, mates, bring back the biff, and always back the Knights! \n",
      "\n",
      "Your Mate in the Trenches,\n",
      "Reg Reagan\n"
     ]
    }
   ],
   "source": [
    "reg_reagan = sf.generate_reg_regan_email(\n",
    "    predictions, \n",
    "    tipper_picks, \n",
    "    os.getenv('OPENAI_KEY'), \n",
    "    os.getenv('FOLDER_URL'),\n",
    "    1\n",
    ")\n",
    "\n",
    "print(reg_reagan)"
   ]
  },
  {
   "attachments": {},
   "cell_type": "markdown",
   "metadata": {},
   "source": [
    "## Send emails\n",
    "The final phase, 'Send Emails', sees the footy predictions being disseminated to the intended recipients. The send_emails() function from the 'sending_functions' module is invoked to accomplish this. It accepts several parameters: \"footy-tipper-email-list\", which is the list of recipients who will receive the email; a formatted string that serves as the email subject, dynamically including the round name from the predictions DataFrame; the reg_regan variable, which contains the email content; and the sender's email and password, fetched securely from the environment variables via os.getenv('MY_EMAIL') and os.getenv('EMAIL_PASSWORD') respectively. Finally, it takes the json_path, which might be required for email client authentication. This operation results in all the boys on the email list promptly receiving an email filled with the week's Footy Tipper predictions and tipper picks, all expressed in the unmistakable tone of Reg Regan."
   ]
  },
  {
   "cell_type": "code",
   "execution_count": 6,
   "metadata": {},
   "outputs": [],
   "source": [
    "sf.send_emails(\n",
    "    \"footy-tipper-email-list\", \n",
    "    f\"Footy Tipper Predictions for {predictions['round_name'].unique()[0]}\", \n",
    "    reg_reagan, \n",
    "    os.getenv('MY_EMAIL'), \n",
    "    os.getenv('EMAIL_PASSWORD'), \n",
    "    json_path\n",
    ")"
   ]
  }
 ],
 "metadata": {
  "kernelspec": {
   "display_name": "Python 3",
   "language": "python",
   "name": "python3"
  },
  "language_info": {
   "codemirror_mode": {
    "name": "ipython",
    "version": 3
   },
   "file_extension": ".py",
   "mimetype": "text/x-python",
   "name": "python",
   "nbconvert_exporter": "python",
   "pygments_lexer": "ipython3",
   "version": "3.11.4"
  },
  "orig_nbformat": 4
 },
 "nbformat": 4,
 "nbformat_minor": 2
}
